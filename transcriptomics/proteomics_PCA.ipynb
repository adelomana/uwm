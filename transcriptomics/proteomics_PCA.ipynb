{
 "cells": [
  {
   "cell_type": "code",
   "execution_count": 1,
   "metadata": {},
   "outputs": [],
   "source": [
    "# BiocManager::install(c('FactoMineR'))\n",
    "library(FactoMineR)"
   ]
  },
  {
   "cell_type": "markdown",
   "metadata": {},
   "source": [
    "# 0. User defined variables"
   ]
  },
  {
   "cell_type": "code",
   "execution_count": 2,
   "metadata": {},
   "outputs": [],
   "source": [
    "proteomics_file='/Volumes/omics4tb2/alomana/projects/uwm/data/proteomics/Fo-normalized-MS-073119.txt'\n",
    "results_dir='/Volumes/omics4tb2/alomana/projects/uwm/results/proteomics/'"
   ]
  },
  {
   "cell_type": "markdown",
   "metadata": {},
   "source": [
    "# 1. Read data"
   ]
  },
  {
   "cell_type": "code",
   "execution_count": 55,
   "metadata": {},
   "outputs": [
    {
     "data": {
      "text/html": [
       "<ol class=list-inline>\n",
       "\t<li>1863</li>\n",
       "\t<li>11</li>\n",
       "</ol>\n"
      ],
      "text/latex": [
       "\\begin{enumerate*}\n",
       "\\item 1863\n",
       "\\item 11\n",
       "\\end{enumerate*}\n"
      ],
      "text/markdown": [
       "1. 1863\n",
       "2. 11\n",
       "\n",
       "\n"
      ],
      "text/plain": [
       "[1] 1863   11"
      ]
     },
     "metadata": {},
     "output_type": "display_data"
    },
    {
     "data": {
      "text/html": [
       "<table>\n",
       "<caption>A data.frame: 6 × 11</caption>\n",
       "<thead>\n",
       "\t<tr><th></th><th scope=col>X.</th><th scope=col>Visible.</th><th scope=col>Starred.</th><th scope=col>Identified.Proteins..1862.</th><th scope=col>Alternate.ID</th><th scope=col>Molecular.Weight</th><th scope=col>Protein.Grouping.Ambiguity</th><th scope=col>Taxonomy</th><th scope=col>HMDM</th><th scope=col>THP.1</th><th scope=col>iMAC</th></tr>\n",
       "\t<tr><th></th><th scope=col>&lt;int&gt;</th><th scope=col>&lt;lgl&gt;</th><th scope=col>&lt;chr&gt;</th><th scope=col>&lt;chr&gt;</th><th scope=col>&lt;chr&gt;</th><th scope=col>&lt;chr&gt;</th><th scope=col>&lt;lgl&gt;</th><th scope=col>&lt;chr&gt;</th><th scope=col>&lt;chr&gt;</th><th scope=col>&lt;chr&gt;</th><th scope=col>&lt;chr&gt;</th></tr>\n",
       "</thead>\n",
       "<tbody>\n",
       "\t<tr><th scope=row>ACTG_HUMAN</th><td>1</td><td>TRUE</td><td>Empty</td><td>Actin, cytoplasmic 2 OS=Homo sapiens OX=9606 GN=ACTG1 PE=1 SV=1                    </td><td>ACTG1 </td><td>42 kDa</td><td>TRUE</td><td>unknown</td><td>3,628.70</td><td>4,179.10</td><td>2,884.80</td></tr>\n",
       "\t<tr><th scope=row>VIME_HUMAN</th><td>2</td><td>TRUE</td><td>Empty</td><td>Vimentin OS=Homo sapiens OX=9606 GN=VIM PE=1 SV=4                                  </td><td>VIM   </td><td>54 kDa</td><td>TRUE</td><td>unknown</td><td>3,068.20</td><td>1,475.10</td><td>1,790.40</td></tr>\n",
       "\t<tr><th scope=row>EF1A1_HUMAN</th><td>3</td><td>TRUE</td><td>Empty</td><td>Elongation factor 1-alpha 1 OS=Homo sapiens OX=9606 GN=EEF1A1 PE=1 SV=1            </td><td>EEF1A1</td><td>50 kDa</td><td>TRUE</td><td>unknown</td><td>1,474.70</td><td>1,983.90</td><td>1,165.60</td></tr>\n",
       "\t<tr><th scope=row>KPYM_HUMAN</th><td>4</td><td>TRUE</td><td>Empty</td><td>Pyruvate kinase PKM OS=Homo sapiens OX=9606 GN=PKM PE=1 SV=4                       </td><td>PKM   </td><td>58 kDa</td><td>TRUE</td><td>unknown</td><td>1,475.90</td><td>1,312.10</td><td>1,284.90</td></tr>\n",
       "\t<tr><th scope=row>G3P_HUMAN</th><td>5</td><td>TRUE</td><td>Empty</td><td>Glyceraldehyde-3-phosphate dehydrogenase OS=Homo sapiens OX=9606 GN=GAPDH PE=1 SV=3</td><td>GAPDH </td><td>36 kDa</td><td>  NA</td><td>unknown</td><td>1,822.70</td><td>1,164.20</td><td>1,632.00</td></tr>\n",
       "\t<tr><th scope=row>ENOA_HUMAN</th><td>6</td><td>TRUE</td><td>Empty</td><td>Alpha-enolase OS=Homo sapiens OX=9606 GN=ENO1 PE=1 SV=2                            </td><td>ENO1  </td><td>47 kDa</td><td>TRUE</td><td>unknown</td><td>978.81  </td><td>1,128.30</td><td>758.16  </td></tr>\n",
       "</tbody>\n",
       "</table>\n"
      ],
      "text/latex": [
       "A data.frame: 6 × 11\n",
       "\\begin{tabular}{r|lllllllllll}\n",
       "  & X. & Visible. & Starred. & Identified.Proteins..1862. & Alternate.ID & Molecular.Weight & Protein.Grouping.Ambiguity & Taxonomy & HMDM & THP.1 & iMAC\\\\\n",
       "  & <int> & <lgl> & <chr> & <chr> & <chr> & <chr> & <lgl> & <chr> & <chr> & <chr> & <chr>\\\\\n",
       "\\hline\n",
       "\tACTG\\_HUMAN & 1 & TRUE & Empty & Actin, cytoplasmic 2 OS=Homo sapiens OX=9606 GN=ACTG1 PE=1 SV=1                     & ACTG1  & 42 kDa & TRUE & unknown & 3,628.70 & 4,179.10 & 2,884.80\\\\\n",
       "\tVIME\\_HUMAN & 2 & TRUE & Empty & Vimentin OS=Homo sapiens OX=9606 GN=VIM PE=1 SV=4                                   & VIM    & 54 kDa & TRUE & unknown & 3,068.20 & 1,475.10 & 1,790.40\\\\\n",
       "\tEF1A1\\_HUMAN & 3 & TRUE & Empty & Elongation factor 1-alpha 1 OS=Homo sapiens OX=9606 GN=EEF1A1 PE=1 SV=1             & EEF1A1 & 50 kDa & TRUE & unknown & 1,474.70 & 1,983.90 & 1,165.60\\\\\n",
       "\tKPYM\\_HUMAN & 4 & TRUE & Empty & Pyruvate kinase PKM OS=Homo sapiens OX=9606 GN=PKM PE=1 SV=4                        & PKM    & 58 kDa & TRUE & unknown & 1,475.90 & 1,312.10 & 1,284.90\\\\\n",
       "\tG3P\\_HUMAN & 5 & TRUE & Empty & Glyceraldehyde-3-phosphate dehydrogenase OS=Homo sapiens OX=9606 GN=GAPDH PE=1 SV=3 & GAPDH  & 36 kDa &   NA & unknown & 1,822.70 & 1,164.20 & 1,632.00\\\\\n",
       "\tENOA\\_HUMAN & 6 & TRUE & Empty & Alpha-enolase OS=Homo sapiens OX=9606 GN=ENO1 PE=1 SV=2                             & ENO1   & 47 kDa & TRUE & unknown & 978.81   & 1,128.30 & 758.16  \\\\\n",
       "\\end{tabular}\n"
      ],
      "text/markdown": [
       "\n",
       "A data.frame: 6 × 11\n",
       "\n",
       "| <!--/--> | X. &lt;int&gt; | Visible. &lt;lgl&gt; | Starred. &lt;chr&gt; | Identified.Proteins..1862. &lt;chr&gt; | Alternate.ID &lt;chr&gt; | Molecular.Weight &lt;chr&gt; | Protein.Grouping.Ambiguity &lt;lgl&gt; | Taxonomy &lt;chr&gt; | HMDM &lt;chr&gt; | THP.1 &lt;chr&gt; | iMAC &lt;chr&gt; |\n",
       "|---|---|---|---|---|---|---|---|---|---|---|---|\n",
       "| ACTG_HUMAN | 1 | TRUE | Empty | Actin, cytoplasmic 2 OS=Homo sapiens OX=9606 GN=ACTG1 PE=1 SV=1                     | ACTG1  | 42 kDa | TRUE | unknown | 3,628.70 | 4,179.10 | 2,884.80 |\n",
       "| VIME_HUMAN | 2 | TRUE | Empty | Vimentin OS=Homo sapiens OX=9606 GN=VIM PE=1 SV=4                                   | VIM    | 54 kDa | TRUE | unknown | 3,068.20 | 1,475.10 | 1,790.40 |\n",
       "| EF1A1_HUMAN | 3 | TRUE | Empty | Elongation factor 1-alpha 1 OS=Homo sapiens OX=9606 GN=EEF1A1 PE=1 SV=1             | EEF1A1 | 50 kDa | TRUE | unknown | 1,474.70 | 1,983.90 | 1,165.60 |\n",
       "| KPYM_HUMAN | 4 | TRUE | Empty | Pyruvate kinase PKM OS=Homo sapiens OX=9606 GN=PKM PE=1 SV=4                        | PKM    | 58 kDa | TRUE | unknown | 1,475.90 | 1,312.10 | 1,284.90 |\n",
       "| G3P_HUMAN | 5 | TRUE | Empty | Glyceraldehyde-3-phosphate dehydrogenase OS=Homo sapiens OX=9606 GN=GAPDH PE=1 SV=3 | GAPDH  | 36 kDa |   NA | unknown | 1,822.70 | 1,164.20 | 1,632.00 |\n",
       "| ENOA_HUMAN | 6 | TRUE | Empty | Alpha-enolase OS=Homo sapiens OX=9606 GN=ENO1 PE=1 SV=2                             | ENO1   | 47 kDa | TRUE | unknown | 978.81   | 1,128.30 | 758.16   |\n",
       "\n"
      ],
      "text/plain": [
       "            X. Visible. Starred.\n",
       "ACTG_HUMAN  1  TRUE     Empty   \n",
       "VIME_HUMAN  2  TRUE     Empty   \n",
       "EF1A1_HUMAN 3  TRUE     Empty   \n",
       "KPYM_HUMAN  4  TRUE     Empty   \n",
       "G3P_HUMAN   5  TRUE     Empty   \n",
       "ENOA_HUMAN  6  TRUE     Empty   \n",
       "            Identified.Proteins..1862.                                                         \n",
       "ACTG_HUMAN  Actin, cytoplasmic 2 OS=Homo sapiens OX=9606 GN=ACTG1 PE=1 SV=1                    \n",
       "VIME_HUMAN  Vimentin OS=Homo sapiens OX=9606 GN=VIM PE=1 SV=4                                  \n",
       "EF1A1_HUMAN Elongation factor 1-alpha 1 OS=Homo sapiens OX=9606 GN=EEF1A1 PE=1 SV=1            \n",
       "KPYM_HUMAN  Pyruvate kinase PKM OS=Homo sapiens OX=9606 GN=PKM PE=1 SV=4                       \n",
       "G3P_HUMAN   Glyceraldehyde-3-phosphate dehydrogenase OS=Homo sapiens OX=9606 GN=GAPDH PE=1 SV=3\n",
       "ENOA_HUMAN  Alpha-enolase OS=Homo sapiens OX=9606 GN=ENO1 PE=1 SV=2                            \n",
       "            Alternate.ID Molecular.Weight Protein.Grouping.Ambiguity Taxonomy\n",
       "ACTG_HUMAN  ACTG1        42 kDa           TRUE                       unknown \n",
       "VIME_HUMAN  VIM          54 kDa           TRUE                       unknown \n",
       "EF1A1_HUMAN EEF1A1       50 kDa           TRUE                       unknown \n",
       "KPYM_HUMAN  PKM          58 kDa           TRUE                       unknown \n",
       "G3P_HUMAN   GAPDH        36 kDa             NA                       unknown \n",
       "ENOA_HUMAN  ENO1         47 kDa           TRUE                       unknown \n",
       "            HMDM     THP.1    iMAC    \n",
       "ACTG_HUMAN  3,628.70 4,179.10 2,884.80\n",
       "VIME_HUMAN  3,068.20 1,475.10 1,790.40\n",
       "EF1A1_HUMAN 1,474.70 1,983.90 1,165.60\n",
       "KPYM_HUMAN  1,475.90 1,312.10 1,284.90\n",
       "G3P_HUMAN   1,822.70 1,164.20 1,632.00\n",
       "ENOA_HUMAN  978.81   1,128.30 758.16  "
      ]
     },
     "metadata": {},
     "output_type": "display_data"
    },
    {
     "data": {
      "text/html": [
       "<table>\n",
       "<caption>A data.frame: 6 × 11</caption>\n",
       "<thead>\n",
       "\t<tr><th></th><th scope=col>X.</th><th scope=col>Visible.</th><th scope=col>Starred.</th><th scope=col>Identified.Proteins..1862.</th><th scope=col>Alternate.ID</th><th scope=col>Molecular.Weight</th><th scope=col>Protein.Grouping.Ambiguity</th><th scope=col>Taxonomy</th><th scope=col>HMDM</th><th scope=col>THP.1</th><th scope=col>iMAC</th></tr>\n",
       "\t<tr><th></th><th scope=col>&lt;int&gt;</th><th scope=col>&lt;lgl&gt;</th><th scope=col>&lt;chr&gt;</th><th scope=col>&lt;chr&gt;</th><th scope=col>&lt;chr&gt;</th><th scope=col>&lt;chr&gt;</th><th scope=col>&lt;lgl&gt;</th><th scope=col>&lt;chr&gt;</th><th scope=col>&lt;chr&gt;</th><th scope=col>&lt;chr&gt;</th><th scope=col>&lt;chr&gt;</th></tr>\n",
       "</thead>\n",
       "<tbody>\n",
       "\t<tr><th scope=row>VPS25_HUMAN</th><td>1858</td><td>TRUE</td><td>Empty</td><td>Vacuolar protein-sorting-associated protein 25 OS=Homo sapiens OX=9606 GN=VPS25 PE=1 SV=1                        </td><td>VPS25 </td><td>21 kDa</td><td>NA</td><td>unknown</td><td>0</td><td>0     </td><td>1.7271</td></tr>\n",
       "\t<tr><th scope=row>SPB1_HUMAN</th><td>1859</td><td>TRUE</td><td>Empty</td><td>pre-rRNA processing protein FTSJ3 OS=Homo sapiens OX=9606 GN=FTSJ3 PE=1 SV=2                                     </td><td>FTSJ3 </td><td>97 kDa</td><td>NA</td><td>unknown</td><td>0</td><td>1.7277</td><td>0     </td></tr>\n",
       "\t<tr><th scope=row>CLPX_HUMAN</th><td>1860</td><td>TRUE</td><td>Empty</td><td>ATP-dependent Clp protease ATP-binding subunit clpX-like, mitochondrial OS=Homo sapiens OX=9606 GN=CLPX PE=1 SV=2</td><td>CLPX  </td><td>69 kDa</td><td>NA</td><td>unknown</td><td>0</td><td>0     </td><td>1.7573</td></tr>\n",
       "\t<tr><th scope=row>RT35_HUMAN</th><td>1861</td><td>TRUE</td><td>Empty</td><td>28S ribosomal protein S35, mitochondrial OS=Homo sapiens OX=9606 GN=MRPS35 PE=1 SV=1                             </td><td>MRPS35</td><td>37 kDa</td><td>NA</td><td>unknown</td><td>0</td><td>0     </td><td>1.7271</td></tr>\n",
       "\t<tr><th scope=row>BABA2_HUMAN</th><td>1862</td><td>TRUE</td><td>Empty</td><td>BRISC and BRCA1-A complex member 2 OS=Homo sapiens OX=9606 GN=BABAM2 PE=1 SV=2                                   </td><td>BABAM2</td><td>44 kDa</td><td>NA</td><td>unknown</td><td>0</td><td>0     </td><td>1.7271</td></tr>\n",
       "\t<tr><th scope=row></th><td>  NA</td><td>  NA</td><td>     </td><td>                                                                                                                 </td><td>      </td><td>      </td><td>NA</td><td>       </td><td> </td><td>      </td><td>      </td></tr>\n",
       "</tbody>\n",
       "</table>\n"
      ],
      "text/latex": [
       "A data.frame: 6 × 11\n",
       "\\begin{tabular}{r|lllllllllll}\n",
       "  & X. & Visible. & Starred. & Identified.Proteins..1862. & Alternate.ID & Molecular.Weight & Protein.Grouping.Ambiguity & Taxonomy & HMDM & THP.1 & iMAC\\\\\n",
       "  & <int> & <lgl> & <chr> & <chr> & <chr> & <chr> & <lgl> & <chr> & <chr> & <chr> & <chr>\\\\\n",
       "\\hline\n",
       "\tVPS25\\_HUMAN & 1858 & TRUE & Empty & Vacuolar protein-sorting-associated protein 25 OS=Homo sapiens OX=9606 GN=VPS25 PE=1 SV=1                         & VPS25  & 21 kDa & NA & unknown & 0 & 0      & 1.7271\\\\\n",
       "\tSPB1\\_HUMAN & 1859 & TRUE & Empty & pre-rRNA processing protein FTSJ3 OS=Homo sapiens OX=9606 GN=FTSJ3 PE=1 SV=2                                      & FTSJ3  & 97 kDa & NA & unknown & 0 & 1.7277 & 0     \\\\\n",
       "\tCLPX\\_HUMAN & 1860 & TRUE & Empty & ATP-dependent Clp protease ATP-binding subunit clpX-like, mitochondrial OS=Homo sapiens OX=9606 GN=CLPX PE=1 SV=2 & CLPX   & 69 kDa & NA & unknown & 0 & 0      & 1.7573\\\\\n",
       "\tRT35\\_HUMAN & 1861 & TRUE & Empty & 28S ribosomal protein S35, mitochondrial OS=Homo sapiens OX=9606 GN=MRPS35 PE=1 SV=1                              & MRPS35 & 37 kDa & NA & unknown & 0 & 0      & 1.7271\\\\\n",
       "\tBABA2\\_HUMAN & 1862 & TRUE & Empty & BRISC and BRCA1-A complex member 2 OS=Homo sapiens OX=9606 GN=BABAM2 PE=1 SV=2                                    & BABAM2 & 44 kDa & NA & unknown & 0 & 0      & 1.7271\\\\\n",
       "\t &   NA &   NA &       &                                                                                                                   &        &        & NA &         &   &        &       \\\\\n",
       "\\end{tabular}\n"
      ],
      "text/markdown": [
       "\n",
       "A data.frame: 6 × 11\n",
       "\n",
       "| <!--/--> | X. &lt;int&gt; | Visible. &lt;lgl&gt; | Starred. &lt;chr&gt; | Identified.Proteins..1862. &lt;chr&gt; | Alternate.ID &lt;chr&gt; | Molecular.Weight &lt;chr&gt; | Protein.Grouping.Ambiguity &lt;lgl&gt; | Taxonomy &lt;chr&gt; | HMDM &lt;chr&gt; | THP.1 &lt;chr&gt; | iMAC &lt;chr&gt; |\n",
       "|---|---|---|---|---|---|---|---|---|---|---|---|\n",
       "| VPS25_HUMAN | 1858 | TRUE | Empty | Vacuolar protein-sorting-associated protein 25 OS=Homo sapiens OX=9606 GN=VPS25 PE=1 SV=1                         | VPS25  | 21 kDa | NA | unknown | 0 | 0      | 1.7271 |\n",
       "| SPB1_HUMAN | 1859 | TRUE | Empty | pre-rRNA processing protein FTSJ3 OS=Homo sapiens OX=9606 GN=FTSJ3 PE=1 SV=2                                      | FTSJ3  | 97 kDa | NA | unknown | 0 | 1.7277 | 0      |\n",
       "| CLPX_HUMAN | 1860 | TRUE | Empty | ATP-dependent Clp protease ATP-binding subunit clpX-like, mitochondrial OS=Homo sapiens OX=9606 GN=CLPX PE=1 SV=2 | CLPX   | 69 kDa | NA | unknown | 0 | 0      | 1.7573 |\n",
       "| RT35_HUMAN | 1861 | TRUE | Empty | 28S ribosomal protein S35, mitochondrial OS=Homo sapiens OX=9606 GN=MRPS35 PE=1 SV=1                              | MRPS35 | 37 kDa | NA | unknown | 0 | 0      | 1.7271 |\n",
       "| BABA2_HUMAN | 1862 | TRUE | Empty | BRISC and BRCA1-A complex member 2 OS=Homo sapiens OX=9606 GN=BABAM2 PE=1 SV=2                                    | BABAM2 | 44 kDa | NA | unknown | 0 | 0      | 1.7271 |\n",
       "| <!----> |   NA |   NA | <!----> | <!----> | <!----> | <!----> | NA | <!----> | <!----> | <!----> | <!----> |\n",
       "\n"
      ],
      "text/plain": [
       "            X.   Visible. Starred.\n",
       "VPS25_HUMAN 1858 TRUE     Empty   \n",
       "SPB1_HUMAN  1859 TRUE     Empty   \n",
       "CLPX_HUMAN  1860 TRUE     Empty   \n",
       "RT35_HUMAN  1861 TRUE     Empty   \n",
       "BABA2_HUMAN 1862 TRUE     Empty   \n",
       "              NA   NA             \n",
       "            Identified.Proteins..1862.                                                                                       \n",
       "VPS25_HUMAN Vacuolar protein-sorting-associated protein 25 OS=Homo sapiens OX=9606 GN=VPS25 PE=1 SV=1                        \n",
       "SPB1_HUMAN  pre-rRNA processing protein FTSJ3 OS=Homo sapiens OX=9606 GN=FTSJ3 PE=1 SV=2                                     \n",
       "CLPX_HUMAN  ATP-dependent Clp protease ATP-binding subunit clpX-like, mitochondrial OS=Homo sapiens OX=9606 GN=CLPX PE=1 SV=2\n",
       "RT35_HUMAN  28S ribosomal protein S35, mitochondrial OS=Homo sapiens OX=9606 GN=MRPS35 PE=1 SV=1                             \n",
       "BABA2_HUMAN BRISC and BRCA1-A complex member 2 OS=Homo sapiens OX=9606 GN=BABAM2 PE=1 SV=2                                   \n",
       "                                                                                                                             \n",
       "            Alternate.ID Molecular.Weight Protein.Grouping.Ambiguity Taxonomy\n",
       "VPS25_HUMAN VPS25        21 kDa           NA                         unknown \n",
       "SPB1_HUMAN  FTSJ3        97 kDa           NA                         unknown \n",
       "CLPX_HUMAN  CLPX         69 kDa           NA                         unknown \n",
       "RT35_HUMAN  MRPS35       37 kDa           NA                         unknown \n",
       "BABA2_HUMAN BABAM2       44 kDa           NA                         unknown \n",
       "                                          NA                                 \n",
       "            HMDM THP.1  iMAC  \n",
       "VPS25_HUMAN 0    0      1.7271\n",
       "SPB1_HUMAN  0    1.7277 0     \n",
       "CLPX_HUMAN  0    0      1.7573\n",
       "RT35_HUMAN  0    0      1.7271\n",
       "BABA2_HUMAN 0    0      1.7271\n",
       "                              "
      ]
     },
     "metadata": {},
     "output_type": "display_data"
    },
    {
     "data": {
      "text/html": [
       "<table>\n",
       "<caption>A data.frame: 6 × 3</caption>\n",
       "<thead>\n",
       "\t<tr><th></th><th scope=col>HMDM</th><th scope=col>THP.1</th><th scope=col>iMAC</th></tr>\n",
       "\t<tr><th></th><th scope=col>&lt;chr&gt;</th><th scope=col>&lt;chr&gt;</th><th scope=col>&lt;chr&gt;</th></tr>\n",
       "</thead>\n",
       "<tbody>\n",
       "\t<tr><th scope=row>ACTG_HUMAN</th><td>3,628.70</td><td>4,179.10</td><td>2,884.80</td></tr>\n",
       "\t<tr><th scope=row>VIME_HUMAN</th><td>3,068.20</td><td>1,475.10</td><td>1,790.40</td></tr>\n",
       "\t<tr><th scope=row>EF1A1_HUMAN</th><td>1,474.70</td><td>1,983.90</td><td>1,165.60</td></tr>\n",
       "\t<tr><th scope=row>KPYM_HUMAN</th><td>1,475.90</td><td>1,312.10</td><td>1,284.90</td></tr>\n",
       "\t<tr><th scope=row>G3P_HUMAN</th><td>1,822.70</td><td>1,164.20</td><td>1,632.00</td></tr>\n",
       "\t<tr><th scope=row>ENOA_HUMAN</th><td>978.81  </td><td>1,128.30</td><td>758.16  </td></tr>\n",
       "</tbody>\n",
       "</table>\n"
      ],
      "text/latex": [
       "A data.frame: 6 × 3\n",
       "\\begin{tabular}{r|lll}\n",
       "  & HMDM & THP.1 & iMAC\\\\\n",
       "  & <chr> & <chr> & <chr>\\\\\n",
       "\\hline\n",
       "\tACTG\\_HUMAN & 3,628.70 & 4,179.10 & 2,884.80\\\\\n",
       "\tVIME\\_HUMAN & 3,068.20 & 1,475.10 & 1,790.40\\\\\n",
       "\tEF1A1\\_HUMAN & 1,474.70 & 1,983.90 & 1,165.60\\\\\n",
       "\tKPYM\\_HUMAN & 1,475.90 & 1,312.10 & 1,284.90\\\\\n",
       "\tG3P\\_HUMAN & 1,822.70 & 1,164.20 & 1,632.00\\\\\n",
       "\tENOA\\_HUMAN & 978.81   & 1,128.30 & 758.16  \\\\\n",
       "\\end{tabular}\n"
      ],
      "text/markdown": [
       "\n",
       "A data.frame: 6 × 3\n",
       "\n",
       "| <!--/--> | HMDM &lt;chr&gt; | THP.1 &lt;chr&gt; | iMAC &lt;chr&gt; |\n",
       "|---|---|---|---|\n",
       "| ACTG_HUMAN | 3,628.70 | 4,179.10 | 2,884.80 |\n",
       "| VIME_HUMAN | 3,068.20 | 1,475.10 | 1,790.40 |\n",
       "| EF1A1_HUMAN | 1,474.70 | 1,983.90 | 1,165.60 |\n",
       "| KPYM_HUMAN | 1,475.90 | 1,312.10 | 1,284.90 |\n",
       "| G3P_HUMAN | 1,822.70 | 1,164.20 | 1,632.00 |\n",
       "| ENOA_HUMAN | 978.81   | 1,128.30 | 758.16   |\n",
       "\n"
      ],
      "text/plain": [
       "            HMDM     THP.1    iMAC    \n",
       "ACTG_HUMAN  3,628.70 4,179.10 2,884.80\n",
       "VIME_HUMAN  3,068.20 1,475.10 1,790.40\n",
       "EF1A1_HUMAN 1,474.70 1,983.90 1,165.60\n",
       "KPYM_HUMAN  1,475.90 1,312.10 1,284.90\n",
       "G3P_HUMAN   1,822.70 1,164.20 1,632.00\n",
       "ENOA_HUMAN  978.81   1,128.30 758.16  "
      ]
     },
     "metadata": {},
     "output_type": "display_data"
    },
    {
     "data": {
      "text/html": [
       "<table>\n",
       "<caption>A data.frame: 6 × 3</caption>\n",
       "<thead>\n",
       "\t<tr><th></th><th scope=col>HMDM</th><th scope=col>THP.1</th><th scope=col>iMAC</th></tr>\n",
       "\t<tr><th></th><th scope=col>&lt;chr&gt;</th><th scope=col>&lt;chr&gt;</th><th scope=col>&lt;chr&gt;</th></tr>\n",
       "</thead>\n",
       "<tbody>\n",
       "\t<tr><th scope=row>VPS25_HUMAN</th><td>0</td><td>0     </td><td>1.7271</td></tr>\n",
       "\t<tr><th scope=row>SPB1_HUMAN</th><td>0</td><td>1.7277</td><td>0     </td></tr>\n",
       "\t<tr><th scope=row>CLPX_HUMAN</th><td>0</td><td>0     </td><td>1.7573</td></tr>\n",
       "\t<tr><th scope=row>RT35_HUMAN</th><td>0</td><td>0     </td><td>1.7271</td></tr>\n",
       "\t<tr><th scope=row>BABA2_HUMAN</th><td>0</td><td>0     </td><td>1.7271</td></tr>\n",
       "\t<tr><th scope=row></th><td> </td><td>      </td><td>      </td></tr>\n",
       "</tbody>\n",
       "</table>\n"
      ],
      "text/latex": [
       "A data.frame: 6 × 3\n",
       "\\begin{tabular}{r|lll}\n",
       "  & HMDM & THP.1 & iMAC\\\\\n",
       "  & <chr> & <chr> & <chr>\\\\\n",
       "\\hline\n",
       "\tVPS25\\_HUMAN & 0 & 0      & 1.7271\\\\\n",
       "\tSPB1\\_HUMAN & 0 & 1.7277 & 0     \\\\\n",
       "\tCLPX\\_HUMAN & 0 & 0      & 1.7573\\\\\n",
       "\tRT35\\_HUMAN & 0 & 0      & 1.7271\\\\\n",
       "\tBABA2\\_HUMAN & 0 & 0      & 1.7271\\\\\n",
       "\t &   &        &       \\\\\n",
       "\\end{tabular}\n"
      ],
      "text/markdown": [
       "\n",
       "A data.frame: 6 × 3\n",
       "\n",
       "| <!--/--> | HMDM &lt;chr&gt; | THP.1 &lt;chr&gt; | iMAC &lt;chr&gt; |\n",
       "|---|---|---|---|\n",
       "| VPS25_HUMAN | 0 | 0      | 1.7271 |\n",
       "| SPB1_HUMAN | 0 | 1.7277 | 0      |\n",
       "| CLPX_HUMAN | 0 | 0      | 1.7573 |\n",
       "| RT35_HUMAN | 0 | 0      | 1.7271 |\n",
       "| BABA2_HUMAN | 0 | 0      | 1.7271 |\n",
       "| <!----> | <!----> | <!----> | <!----> |\n",
       "\n"
      ],
      "text/plain": [
       "            HMDM THP.1  iMAC  \n",
       "VPS25_HUMAN 0    0      1.7271\n",
       "SPB1_HUMAN  0    1.7277 0     \n",
       "CLPX_HUMAN  0    0      1.7573\n",
       "RT35_HUMAN  0    0      1.7271\n",
       "BABA2_HUMAN 0    0      1.7271\n",
       "                              "
      ]
     },
     "metadata": {},
     "output_type": "display_data"
    },
    {
     "data": {
      "text/html": [
       "<ol class=list-inline>\n",
       "\t<li>1863</li>\n",
       "\t<li>3</li>\n",
       "</ol>\n"
      ],
      "text/latex": [
       "\\begin{enumerate*}\n",
       "\\item 1863\n",
       "\\item 3\n",
       "\\end{enumerate*}\n"
      ],
      "text/markdown": [
       "1. 1863\n",
       "2. 3\n",
       "\n",
       "\n"
      ],
      "text/plain": [
       "[1] 1863    3"
      ]
     },
     "metadata": {},
     "output_type": "display_data"
    },
    {
     "name": "stderr",
     "output_type": "stream",
     "text": [
      "Warning message in eval(expr, envir, enclos):\n",
      "“NAs introduced by coercion”\n"
     ]
    },
    {
     "data": {
      "text/html": [
       "<table>\n",
       "<caption>A data.frame: 6 × 3</caption>\n",
       "<thead>\n",
       "\t<tr><th></th><th scope=col>HMDM</th><th scope=col>THP.1</th><th scope=col>iMAC</th></tr>\n",
       "\t<tr><th></th><th scope=col>&lt;dbl&gt;</th><th scope=col>&lt;chr&gt;</th><th scope=col>&lt;chr&gt;</th></tr>\n",
       "</thead>\n",
       "<tbody>\n",
       "\t<tr><th scope=row>ACTG_HUMAN</th><td>    NA</td><td>4,179.10</td><td>2,884.80</td></tr>\n",
       "\t<tr><th scope=row>VIME_HUMAN</th><td>    NA</td><td>1,475.10</td><td>1,790.40</td></tr>\n",
       "\t<tr><th scope=row>EF1A1_HUMAN</th><td>    NA</td><td>1,983.90</td><td>1,165.60</td></tr>\n",
       "\t<tr><th scope=row>KPYM_HUMAN</th><td>    NA</td><td>1,312.10</td><td>1,284.90</td></tr>\n",
       "\t<tr><th scope=row>G3P_HUMAN</th><td>    NA</td><td>1,164.20</td><td>1,632.00</td></tr>\n",
       "\t<tr><th scope=row>ENOA_HUMAN</th><td>978.81</td><td>1,128.30</td><td>758.16  </td></tr>\n",
       "</tbody>\n",
       "</table>\n"
      ],
      "text/latex": [
       "A data.frame: 6 × 3\n",
       "\\begin{tabular}{r|lll}\n",
       "  & HMDM & THP.1 & iMAC\\\\\n",
       "  & <dbl> & <chr> & <chr>\\\\\n",
       "\\hline\n",
       "\tACTG\\_HUMAN &     NA & 4,179.10 & 2,884.80\\\\\n",
       "\tVIME\\_HUMAN &     NA & 1,475.10 & 1,790.40\\\\\n",
       "\tEF1A1\\_HUMAN &     NA & 1,983.90 & 1,165.60\\\\\n",
       "\tKPYM\\_HUMAN &     NA & 1,312.10 & 1,284.90\\\\\n",
       "\tG3P\\_HUMAN &     NA & 1,164.20 & 1,632.00\\\\\n",
       "\tENOA\\_HUMAN & 978.81 & 1,128.30 & 758.16  \\\\\n",
       "\\end{tabular}\n"
      ],
      "text/markdown": [
       "\n",
       "A data.frame: 6 × 3\n",
       "\n",
       "| <!--/--> | HMDM &lt;dbl&gt; | THP.1 &lt;chr&gt; | iMAC &lt;chr&gt; |\n",
       "|---|---|---|---|\n",
       "| ACTG_HUMAN |     NA | 4,179.10 | 2,884.80 |\n",
       "| VIME_HUMAN |     NA | 1,475.10 | 1,790.40 |\n",
       "| EF1A1_HUMAN |     NA | 1,983.90 | 1,165.60 |\n",
       "| KPYM_HUMAN |     NA | 1,312.10 | 1,284.90 |\n",
       "| G3P_HUMAN |     NA | 1,164.20 | 1,632.00 |\n",
       "| ENOA_HUMAN | 978.81 | 1,128.30 | 758.16   |\n",
       "\n"
      ],
      "text/plain": [
       "            HMDM   THP.1    iMAC    \n",
       "ACTG_HUMAN      NA 4,179.10 2,884.80\n",
       "VIME_HUMAN      NA 1,475.10 1,790.40\n",
       "EF1A1_HUMAN     NA 1,983.90 1,165.60\n",
       "KPYM_HUMAN      NA 1,312.10 1,284.90\n",
       "G3P_HUMAN       NA 1,164.20 1,632.00\n",
       "ENOA_HUMAN  978.81 1,128.30 758.16  "
      ]
     },
     "metadata": {},
     "output_type": "display_data"
    }
   ],
   "source": [
    "df=read.delim(proteomics_file,header=TRUE,sep=\"\\t\",skip=2,stringsAsFactors=FALSE,row.names=5,nrows=1863)\n",
    "dim(df)\n",
    "head(df)\n",
    "tail(df)\n",
    "\n",
    "df=df[c(9:11)]\n",
    "head(df)\n",
    "tail(df)\n",
    "dim(df)\n",
    "\n",
    "df$HMDM=as.numeric(df$HMDM)\n",
    "head(df)\n",
    "\n",
    "# ix <- 1:3\n",
    "# df[ix] <- lapply(df[ix], as.numeric)\n",
    "# head(df)\n",
    "# str(df)\n"
   ]
  },
  {
   "cell_type": "markdown",
   "metadata": {},
   "source": [
    "# 2. PCA"
   ]
  },
  {
   "cell_type": "code",
   "execution_count": null,
   "metadata": {},
   "outputs": [],
   "source": [
    "prcomp(as.numeric(clean))"
   ]
  },
  {
   "cell_type": "code",
   "execution_count": 5,
   "metadata": {},
   "outputs": [
    {
     "ename": "ERROR",
     "evalue": "Error in type(USArrests): could not find function \"type\"\n",
     "output_type": "error",
     "traceback": [
      "Error in type(USArrests): could not find function \"type\"\nTraceback:\n"
     ]
    }
   ],
   "source": [
    "type(USArrests)"
   ]
  },
  {
   "cell_type": "code",
   "execution_count": null,
   "metadata": {},
   "outputs": [],
   "source": [
    "type(clean)"
   ]
  },
  {
   "cell_type": "code",
   "execution_count": null,
   "metadata": {},
   "outputs": [],
   "source": []
  }
 ],
 "metadata": {
  "kernelspec": {
   "display_name": "R",
   "language": "R",
   "name": "ir"
  },
  "language_info": {
   "codemirror_mode": "r",
   "file_extension": ".r",
   "mimetype": "text/x-r-source",
   "name": "R",
   "pygments_lexer": "r",
   "version": "3.5.2"
  }
 },
 "nbformat": 4,
 "nbformat_minor": 2
}
