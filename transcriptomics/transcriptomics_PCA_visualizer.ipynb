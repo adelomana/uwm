{
 "cells": [
  {
   "cell_type": "code",
   "execution_count": 1,
   "metadata": {},
   "outputs": [],
   "source": [
    "import os,sys"
   ]
  },
  {
   "cell_type": "markdown",
   "metadata": {},
   "source": [
    "# 1. User defined variables"
   ]
  },
  {
   "cell_type": "code",
   "execution_count": 2,
   "metadata": {},
   "outputs": [],
   "source": [
    "positions_file='/Volumes/omics4tb2/alomana/projects/uwm/data/transcriptomics/'\n",
    "results_dir='/Volumes/omics4tb2/alomana/projects/uwm/results/transcriptomics/'"
   ]
  },
  {
   "cell_type": "markdown",
   "metadata": {},
   "source": [
    "# 2. Read data"
   ]
  },
  {
   "cell_type": "code",
   "execution_count": 3,
   "metadata": {},
   "outputs": [],
   "source": [
    "files=os.listdir(transcriptomics_dir)\n",
    "selected_files=[element for element in files if element[0] != '.']"
   ]
  },
  {
   "cell_type": "code",
   "execution_count": 4,
   "metadata": {},
   "outputs": [],
   "source": [
    "counts={} # counts[sample_label][gene_id]=count_value\n",
    "transcript_lengths={}\n",
    "\n",
    "for working_file in selected_files:\n",
    "    sample_label=working_file.split('.counts')[0]\n",
    "    counts[sample_label]={}\n",
    "    with open(transcriptomics_dir+working_file,'r') as f:\n",
    "        next(f)\n",
    "        for line in f:\n",
    "            v=line.split('\\t')\n",
    "            gene_id=v[0]\n",
    "            count_value=int(v[-1])\n",
    "            length=int(v[-2])\n",
    "            counts[sample_label][gene_id]=count_value\n",
    "            transcript_lengths[gene_id]=length"
   ]
  },
  {
   "cell_type": "markdown",
   "metadata": {},
   "source": [
    "# 3. Save joined data"
   ]
  },
  {
   "cell_type": "code",
   "execution_count": 5,
   "metadata": {},
   "outputs": [],
   "source": [
    "with open(results_dir+'joined_data.txt','w') as f:\n",
    "    \n",
    "    f.write('Gene_ID')\n",
    "    for sample_label in counts.keys():\n",
    "        f.write('\\t{}'.format(sample_label))\n",
    "    f.write('\\n')\n",
    "    \n",
    "    gene_ids=list(counts[sample_label].keys())\n",
    "    \n",
    "    for gene_id in gene_ids:\n",
    "        f.write('{}'.format(gene_id))\n",
    "        for sample_label in counts.keys():\n",
    "            f.write('\\t{}'.format(counts[sample_label][gene_id]))\n",
    "        f.write('\\n')"
   ]
  }
 ],
 "metadata": {
  "kernelspec": {
   "display_name": "Python 3",
   "language": "python",
   "name": "python3"
  },
  "language_info": {
   "codemirror_mode": {
    "name": "ipython",
    "version": 3
   },
   "file_extension": ".py",
   "mimetype": "text/x-python",
   "name": "python",
   "nbconvert_exporter": "python",
   "pygments_lexer": "ipython3",
   "version": "3.7.4"
  }
 },
 "nbformat": 4,
 "nbformat_minor": 2
}
