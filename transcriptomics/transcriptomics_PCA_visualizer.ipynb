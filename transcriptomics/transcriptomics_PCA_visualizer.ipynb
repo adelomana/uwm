{
 "cells": [
  {
   "cell_type": "code",
   "execution_count": 1,
   "metadata": {},
   "outputs": [],
   "source": [
    "import os,sys,pandas\n",
    "\n",
    "import matplotlib,matplotlib.pyplot\n",
    "matplotlib.rcParams.update({'font.size':18,'font.family':'Arial','xtick.labelsize':14,'ytick.labelsize':14,'axes.labelsize':18})\n",
    "matplotlib.rcParams['pdf.fonttype']=42"
   ]
  },
  {
   "cell_type": "markdown",
   "metadata": {},
   "source": [
    "# 1. User defined variables"
   ]
  },
  {
   "cell_type": "code",
   "execution_count": 2,
   "metadata": {},
   "outputs": [],
   "source": [
    "positions_file='/Users/adrianlopezgarciadelomana/gd/tmp/positions.PCA.rld_E.csv'\n",
    "results_file='/Users/adrianlopezgarciadelomana/gd/tmp/positions.PCA.rld_E.pdf'"
   ]
  },
  {
   "cell_type": "markdown",
   "metadata": {},
   "source": [
    "# 2. Read data"
   ]
  },
  {
   "cell_type": "code",
   "execution_count": 3,
   "metadata": {},
   "outputs": [
    {
     "name": "stdout",
     "output_type": "stream",
     "text": [
      "(6, 5)\n"
     ]
    },
    {
     "data": {
      "text/html": [
       "<div>\n",
       "<style scoped>\n",
       "    .dataframe tbody tr th:only-of-type {\n",
       "        vertical-align: middle;\n",
       "    }\n",
       "\n",
       "    .dataframe tbody tr th {\n",
       "        vertical-align: top;\n",
       "    }\n",
       "\n",
       "    .dataframe thead th {\n",
       "        text-align: right;\n",
       "    }\n",
       "</style>\n",
       "<table border=\"1\" class=\"dataframe\">\n",
       "  <thead>\n",
       "    <tr style=\"text-align: right;\">\n",
       "      <th></th>\n",
       "      <th>PC1</th>\n",
       "      <th>PC2</th>\n",
       "      <th>group</th>\n",
       "      <th>condition</th>\n",
       "      <th>name</th>\n",
       "    </tr>\n",
       "  </thead>\n",
       "  <tbody>\n",
       "    <tr>\n",
       "      <td>HMDM.1</td>\n",
       "      <td>-53.796673</td>\n",
       "      <td>-36.684832</td>\n",
       "      <td>human</td>\n",
       "      <td>human</td>\n",
       "      <td>HMDM.1</td>\n",
       "    </tr>\n",
       "    <tr>\n",
       "      <td>HMDM.2</td>\n",
       "      <td>-49.816541</td>\n",
       "      <td>-32.402495</td>\n",
       "      <td>human</td>\n",
       "      <td>human</td>\n",
       "      <td>HMDM.2</td>\n",
       "    </tr>\n",
       "    <tr>\n",
       "      <td>THP1.1</td>\n",
       "      <td>83.437015</td>\n",
       "      <td>-4.018521</td>\n",
       "      <td>thp</td>\n",
       "      <td>thp</td>\n",
       "      <td>THP1.1</td>\n",
       "    </tr>\n",
       "    <tr>\n",
       "      <td>THP1.2</td>\n",
       "      <td>83.325583</td>\n",
       "      <td>-8.213097</td>\n",
       "      <td>thp</td>\n",
       "      <td>thp</td>\n",
       "      <td>THP1.2</td>\n",
       "    </tr>\n",
       "    <tr>\n",
       "      <td>iMac.1</td>\n",
       "      <td>-30.176339</td>\n",
       "      <td>40.506792</td>\n",
       "      <td>imac</td>\n",
       "      <td>imac</td>\n",
       "      <td>iMac.1</td>\n",
       "    </tr>\n",
       "  </tbody>\n",
       "</table>\n",
       "</div>"
      ],
      "text/plain": [
       "              PC1        PC2  group condition    name\n",
       "HMDM.1 -53.796673 -36.684832  human     human  HMDM.1\n",
       "HMDM.2 -49.816541 -32.402495  human     human  HMDM.2\n",
       "THP1.1  83.437015  -4.018521    thp       thp  THP1.1\n",
       "THP1.2  83.325583  -8.213097    thp       thp  THP1.2\n",
       "iMac.1 -30.176339  40.506792   imac      imac  iMac.1"
      ]
     },
     "execution_count": 3,
     "metadata": {},
     "output_type": "execute_result"
    }
   ],
   "source": [
    "df=pandas.read_csv(positions_file,sep=',',index_col=0)\n",
    "print(df.shape)\n",
    "df.head()"
   ]
  },
  {
   "cell_type": "code",
   "execution_count": 4,
   "metadata": {},
   "outputs": [],
   "source": [
    "pc1explained=75\n",
    "pc2explained=20"
   ]
  },
  {
   "cell_type": "markdown",
   "metadata": {},
   "source": [
    "# 3. Plot data"
   ]
  },
  {
   "cell_type": "code",
   "execution_count": 5,
   "metadata": {},
   "outputs": [
    {
     "data": {
      "image/png": "[encoded data removed]",
      "text/plain": [
       "<Figure size 360x360 with 1 Axes>"
      ]
     },
     "metadata": {
      "needs_background": "light"
     },
     "output_type": "display_data"
    }
   ],
   "source": [
    "fig = matplotlib.pyplot.figure(figsize = (5,5))\n",
    "ax = fig.add_subplot(1,1,1)\n",
    "\n",
    "ax.set_xlabel('PC 1 ({:.0f}%)'.format(pc1explained,fontsize=16))\n",
    "ax.set_ylabel('PC 2 ({:.0f}%)'.format(pc2explained,fontsize=16))\n",
    "\n",
    "ax.scatter(df.iloc[0:2,0],df.iloc[0:2,1],s=150,c='#1f77b4',label='HMDM')\n",
    "ax.scatter(df.iloc[2:4,0],df.iloc[2:4,1],s=150,c='#ff7f0e',label='THP1')\n",
    "ax.scatter(df.iloc[4:6,0],df.iloc[4:6,1],s=150,c='#2ca02c',label='iMAC')\n",
    "\n",
    "matplotlib.pyplot.legend()\n",
    "matplotlib.pyplot.tight_layout()\n",
    "\n",
    "matplotlib.pyplot.savefig(results_file)"
   ]
  }
 ],
 "metadata": {
  "kernelspec": {
   "display_name": "Python 3",
   "language": "python",
   "name": "python3"
  },
  "language_info": {
   "codemirror_mode": {
    "name": "ipython",
    "version": 3
   },
   "file_extension": ".py",
   "mimetype": "text/x-python",
   "name": "python",
   "nbconvert_exporter": "python",
   "pygments_lexer": "ipython3",
   "version": "3.7.4"
  }
 },
 "nbformat": 4,
 "nbformat_minor": 2
}
