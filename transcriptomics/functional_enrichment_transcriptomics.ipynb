{
 "cells": [
  {
   "cell_type": "code",
   "execution_count": 1,
   "metadata": {},
   "outputs": [],
   "source": [
    "import json,os"
   ]
  },
  {
   "cell_type": "code",
   "execution_count": 2,
   "metadata": {
    "scrolled": false
   },
   "outputs": [],
   "source": [
    "def analysis(json_file):\n",
    "    \n",
    "    color=json_file.split('.')[0]\n",
    "    amigo_file=amigo_dir+'{}.json'.format(color)\n",
    "    output_file=amigo_dir+'{}_formatted.txt'.format(color)\n",
    "    synonyms_file=amigo_dir+'{}_synonyms.txt'.format(color)\n",
    "    \n",
    "    # read synonyms file\n",
    "    synonyms={}\n",
    "    with open(synonyms_file,'r') as s:\n",
    "        for line in s:\n",
    "            v=line.split('\\t')\n",
    "            ensemblID=v[1]\n",
    "            gene_name=v[2].split(';')[0]\n",
    "            gene_symbol=v[2].split(';')[1]\n",
    "            synonyms[ensemblID]=[gene_symbol,gene_name]\n",
    "    # end read synonyms file\n",
    "    \n",
    "    g=open(output_file,'w')\n",
    "    g.write('Level\\tTerm\\tBackground rank\\tFound rank\\tExpected rank\\tFold enrichment\\tSign\\tP-value\\tTranscripts\\tGene symbols\\tGene names\\n')\n",
    "\n",
    "    with open(amigo_file,'r') as f:\n",
    "        data = json.load(f)\n",
    "        for group in data['overrepresentation']['group']:\n",
    "            if type(group) == dict:\n",
    "                if type(group['result']) == list:\n",
    "                    for element in group['result']:\n",
    "                        \n",
    "                        level=element['term']['level']\n",
    "                        term=element['term']['label']\n",
    "                        background_rank=element['number_in_reference']\n",
    "                        found_rank=element['input_list']['number_in_list']\n",
    "                        expected_rank=element['input_list']['expected']\n",
    "                        fold_enrichment=element['input_list']['fold_enrichment']\n",
    "                        sign=element['input_list']['plus_minus']\n",
    "                        pvalue=element['input_list']['pValue']\n",
    "                        transcripts=','.join(element['input_list']['mapped_id_list']['mapped_id'])\n",
    "                        \n",
    "                        print(level,term,background_rank,found_rank)\n",
    "                        print(element['input_list']['mapped_id_list']['mapped_id'],len(element['input_list']['mapped_id_list']['mapped_id']))\n",
    "                        gene_symbols=[synonyms[ID][0] for ID in element['input_list']['mapped_id_list']['mapped_id']]\n",
    "                        gene_symbols_string=','.join(gene_symbols)\n",
    "                        #gene_names=[synonyms[ID][1] for ID in element['input_list']['mapped_id_list']['mapped_id']]\n",
    "                        #gene_names_string=','.join(gene_names)\n",
    "                        \n",
    "                        g.write('{}\\t'.format(level))\n",
    "                        g.write('{}\\t'.format(term))\n",
    "                        g.write('{}\\t'.format(background_rank))\n",
    "                        g.write('{}\\t'.format(found_rank))\n",
    "                        g.write('{}\\t'.format(expected_rank))\n",
    "                        g.write('{}\\t'.format(fold_enrichment))\n",
    "                        g.write('{}\\t'.format(sign))\n",
    "                        g.write('{}\\t'.format(pvalue))\n",
    "                        g.write('{}\\t'.format(transcripts))\n",
    "                        g.write('{}\\t'.format(gene_symbols_string))\n",
    "                        #g.write('{}\\t'.format(gene_names_string))\n",
    "\n",
    "                        g.write('\\n')\n",
    "                     \n",
    "    g.close()\n",
    "    \n",
    "    return None"
   ]
  },
  {
   "cell_type": "markdown",
   "metadata": {},
   "source": [
    "# 0. User defined variables"
   ]
  },
  {
   "cell_type": "code",
   "execution_count": 3,
   "metadata": {},
   "outputs": [],
   "source": [
    "amigo_dir='/Volumes/omics4tb2/alomana/projects/uwm/results/transcriptomics/tables/formatted/E/'"
   ]
  },
  {
   "cell_type": "markdown",
   "metadata": {},
   "source": [
    "# 1. Detect files"
   ]
  },
  {
   "cell_type": "code",
   "execution_count": 4,
   "metadata": {},
   "outputs": [
    {
     "name": "stdout",
     "output_type": "stream",
     "text": [
      "['blue.json', 'magenta.json', 'red.json', 'orange.json', 'green.json', 'maroon.json', 'cyan.json', 'indigo.json']\n"
     ]
    }
   ],
   "source": [
    "files=os.listdir(amigo_dir)\n",
    "json_files=[element for element in files if 'json' in element and element[0] != '.']\n",
    "print(json_files)"
   ]
  },
  {
   "cell_type": "markdown",
   "metadata": {},
   "source": [
    "# 2. Analysis"
   ]
  },
  {
   "cell_type": "code",
   "execution_count": 5,
   "metadata": {},
   "outputs": [
    {
     "name": "stdout",
     "output_type": "stream",
     "text": [
      "0 Transferrin endocytosis and recycling 31 13\n",
      "['ENSG00000071553', 'ENSG00000090674', 'ENSG00000155097', 'ENSG00000113732', 'ENSG00000072274', 'ENSG00000159720', 'ENSG00000114573', 'ENSG00000147416', 'ENSG00000147614', 'ENSG00000100554', 'ENSG00000010704', 'ENSG00000185883', 'ENSG00000033627'] 13\n",
      "1 Iron uptake and transport 58 18\n",
      "['ENSG00000071553', 'ENSG00000110911', 'ENSG00000090674', 'ENSG00000155097', 'ENSG00000113732', 'ENSG00000072274', 'ENSG00000138449', 'ENSG00000159720', 'ENSG00000076351', 'ENSG00000114573', 'ENSG00000147416', 'ENSG00000147614', 'ENSG00000100554', 'ENSG00000010704', 'ENSG00000185883', 'ENSG00000033627', 'ENSG00000071967', 'ENSG00000087086'] 18\n",
      "0 Rab regulation of trafficking 121 21\n",
      "['ENSG00000123240', 'ENSG00000099992', 'ENSG00000170043', 'ENSG00000170296', 'ENSG00000099246', 'ENSG00000137145', 'ENSG00000172007', 'ENSG00000029725', 'ENSG00000095383', 'ENSG00000167632', 'ENSG00000007255', 'ENSG00000167994', 'ENSG00000166444', 'ENSG00000118508', 'ENSG00000162777', 'ENSG00000100599', 'ENSG00000100099', 'ENSG00000103365', 'ENSG00000123892', 'ENSG00000122674', 'ENSG00000123595'] 21\n",
      "1 Membrane Trafficking 621 65\n",
      "['ENSG00000136738', 'ENSG00000136935', 'ENSG00000204070', 'ENSG00000136856', 'ENSG00000197892', 'ENSG00000049245', 'ENSG00000112685', 'ENSG00000170296', 'ENSG00000135441', 'ENSG00000137145', 'ENSG00000004975', 'ENSG00000137267', 'ENSG00000089818', 'ENSG00000151532', 'ENSG00000095383', 'ENSG00000141252', 'ENSG00000127946', 'ENSG00000119729', 'ENSG00000138190', 'ENSG00000168818', 'ENSG00000085063', 'ENSG00000087086', 'ENSG00000047579', 'ENSG00000129250', 'ENSG00000072274', 'ENSG00000172007', 'ENSG00000029725', 'ENSG00000100934', 'ENSG00000166444', 'ENSG00000141480', 'ENSG00000239264', 'ENSG00000100099', 'ENSG00000089177', 'ENSG00000103365', 'ENSG00000123595', 'ENSG00000100280', 'ENSG00000123240', 'ENSG00000105612', 'ENSG00000099246', 'ENSG00000196547', 'ENSG00000158623', 'ENSG00000083937', 'ENSG00000148429', 'ENSG00000089006', 'ENSG00000162777', 'ENSG00000122674', 'ENSG00000101160', 'ENSG00000104833', 'ENSG00000099992', 'ENSG00000170043', 'ENSG00000106617', 'ENSG00000138107', 'ENSG00000003056', 'ENSG00000135677', 'ENSG00000167632', 'ENSG00000007255', 'ENSG00000167994', 'ENSG00000167552', 'ENSG00000181929', 'ENSG00000118508', 'ENSG00000100599', 'ENSG00000122126', 'ENSG00000100077', 'ENSG00000010610', 'ENSG00000123892'] 65\n",
      "0 Neutrophil degranulation 479 79\n",
      "['ENSG00000137509', 'ENSG00000160209', 'ENSG00000181467', 'ENSG00000021355', 'ENSG00000023697', 'ENSG00000135404', 'ENSG00000153395', 'ENSG00000135926', 'ENSG00000075651', 'ENSG00000108828', 'ENSG00000171860', 'ENSG00000163563', 'ENSG00000101439', 'ENSG00000115271', 'ENSG00000142185', 'ENSG00000033627', 'ENSG00000167925', 'ENSG00000166710', 'ENSG00000085063', 'ENSG00000160213', 'ENSG00000087086', 'ENSG00000164733', 'ENSG00000198053', 'ENSG00000102393', 'ENSG00000146094', 'ENSG00000129450', 'ENSG00000170266', 'ENSG00000005893', 'ENSG00000197405', 'ENSG00000119655', 'ENSG00000143226', 'ENSG00000030582', 'ENSG00000170458', 'ENSG00000060971', 'ENSG00000143546', 'ENSG00000122986', 'ENSG00000188811', 'ENSG00000121691', 'ENSG00000239264', 'ENSG00000127951', 'ENSG00000125730', 'ENSG00000079739', 'ENSG00000124570', 'ENSG00000158825', 'ENSG00000104763', 'ENSG00000026508', 'ENSG00000049860', 'ENSG00000169919', 'ENSG00000008516', 'ENSG00000110442', 'ENSG00000172057', 'ENSG00000099246', 'ENSG00000138413', 'ENSG00000006534', 'ENSG00000169403', 'ENSG00000163220', 'ENSG00000035862', 'ENSG00000165168', 'ENSG00000092929', 'ENSG00000234745', 'ENSG00000164713', 'ENSG00000179163', 'ENSG00000100284', 'ENSG00000160796', 'ENSG00000129226', 'ENSG00000101160', 'ENSG00000171298', 'ENSG00000170043', 'ENSG00000163191', 'ENSG00000135677', 'ENSG00000117984', 'ENSG00000120306', 'ENSG00000143162', 'ENSG00000100554', 'ENSG00000235568', 'ENSG00000185883', 'ENSG00000013364', 'ENSG00000059804', 'ENSG00000109323'] 79\n",
      "1 Innate Immune System 1102 135\n",
      "['ENSG00000137509', 'ENSG00000181467', 'ENSG00000023697', 'ENSG00000153395', 'ENSG00000072062', 'ENSG00000119401', 'ENSG00000165025', 'ENSG00000101439', 'ENSG00000115271', 'ENSG00000164733', 'ENSG00000105223', 'ENSG00000198053', 'ENSG00000129450', 'ENSG00000112799', 'ENSG00000172243', 'ENSG00000197405', 'ENSG00000114573', 'ENSG00000137752', 'ENSG00000119655', 'ENSG00000143226', 'ENSG00000170458', 'ENSG00000010671', 'ENSG00000125818', 'ENSG00000088888', 'ENSG00000166484', 'ENSG00000188811', 'ENSG00000121691', 'ENSG00000239264', 'ENSG00000129219', 'ENSG00000127951', 'ENSG00000158825', 'ENSG00000026508', 'ENSG00000049860', 'ENSG00000169919', 'ENSG00000110442', 'ENSG00000099246', 'ENSG00000110042', 'ENSG00000136754', 'ENSG00000154589', 'ENSG00000138413', 'ENSG00000006534', 'ENSG00000169403', 'ENSG00000147416', 'ENSG00000035862', 'ENSG00000165168', 'ENSG00000101336', 'ENSG00000179163', 'ENSG00000106100', 'ENSG00000101695', 'ENSG00000160796', 'ENSG00000091592', 'ENSG00000101160', 'ENSG00000171298', 'ENSG00000177556', 'ENSG00000135677', 'ENSG00000117984', 'ENSG00000158092', 'ENSG00000172936', 'ENSG00000169413', 'ENSG00000143162', 'ENSG00000149269', 'ENSG00000091106', 'ENSG00000142875', 'ENSG00000010610', 'ENSG00000059804', 'ENSG00000109323', 'ENSG00000160209', 'ENSG00000021355', 'ENSG00000156587', 'ENSG00000135404', 'ENSG00000135926', 'ENSG00000155097', 'ENSG00000113732', 'ENSG00000075651', 'ENSG00000108828', 'ENSG00000171860', 'ENSG00000150760', 'ENSG00000101916', 'ENSG00000166278', 'ENSG00000077150', 'ENSG00000163563', 'ENSG00000142185', 'ENSG00000088179', 'ENSG00000033627', 'ENSG00000167925', 'ENSG00000213341', 'ENSG00000166710', 'ENSG00000085063', 'ENSG00000160213', 'ENSG00000087086', 'ENSG00000136869', 'ENSG00000101182', 'ENSG00000102393', 'ENSG00000146094', 'ENSG00000138646', 'ENSG00000170266', 'ENSG00000159720', 'ENSG00000005893', 'ENSG00000166167', 'ENSG00000030582', 'ENSG00000060971', 'ENSG00000137275', 'ENSG00000143546', 'ENSG00000122986', 'ENSG00000108771', 'ENSG00000143387', 'ENSG00000125730', 'ENSG00000079739', 'ENSG00000072401', 'ENSG00000129465', 'ENSG00000124570', 'ENSG00000104763', 'ENSG00000121060', 'ENSG00000008516', 'ENSG00000172057', 'ENSG00000065559', 'ENSG00000163220', 'ENSG00000147614', 'ENSG00000092929', 'ENSG00000100600', 'ENSG00000234745', 'ENSG00000164713', 'ENSG00000111729', 'ENSG00000100284', 'ENSG00000129226', 'ENSG00000170043', 'ENSG00000171132', 'ENSG00000163191', 'ENSG00000171777', 'ENSG00000120306', 'ENSG00000100554', 'ENSG00000235568', 'ENSG00000185883', 'ENSG00000013364', 'ENSG00000126767'] 135\n",
      "0 Olfactory Signaling Pathway 432 1\n",
      "ENSG00000129625 15\n"
     ]
    },
    {
     "ename": "KeyError",
     "evalue": "'E'",
     "output_type": "error",
     "traceback": [
      "\u001b[0;31m---------------------------------------------------------------------------\u001b[0m",
      "\u001b[0;31mKeyError\u001b[0m                                  Traceback (most recent call last)",
      "\u001b[0;32m<ipython-input-5-28ff7d28b2d3>\u001b[0m in \u001b[0;36m<module>\u001b[0;34m\u001b[0m\n\u001b[1;32m      1\u001b[0m \u001b[0;31m#for element in json_files:\u001b[0m\u001b[0;34m\u001b[0m\u001b[0;34m\u001b[0m\u001b[0;34m\u001b[0m\u001b[0m\n\u001b[1;32m      2\u001b[0m \u001b[0;31m#    print(element)\u001b[0m\u001b[0;34m\u001b[0m\u001b[0;34m\u001b[0m\u001b[0;34m\u001b[0m\u001b[0m\n\u001b[0;32m----> 3\u001b[0;31m \u001b[0manalysis\u001b[0m\u001b[0;34m(\u001b[0m\u001b[0;34m'blue.json'\u001b[0m\u001b[0;34m)\u001b[0m\u001b[0;34m\u001b[0m\u001b[0;34m\u001b[0m\u001b[0m\n\u001b[0m",
      "\u001b[0;32m<ipython-input-2-bf2cf74227e9>\u001b[0m in \u001b[0;36manalysis\u001b[0;34m(json_file)\u001b[0m\n\u001b[1;32m     39\u001b[0m                         \u001b[0mprint\u001b[0m\u001b[0;34m(\u001b[0m\u001b[0mlevel\u001b[0m\u001b[0;34m,\u001b[0m\u001b[0mterm\u001b[0m\u001b[0;34m,\u001b[0m\u001b[0mbackground_rank\u001b[0m\u001b[0;34m,\u001b[0m\u001b[0mfound_rank\u001b[0m\u001b[0;34m)\u001b[0m\u001b[0;34m\u001b[0m\u001b[0;34m\u001b[0m\u001b[0m\n\u001b[1;32m     40\u001b[0m                         \u001b[0mprint\u001b[0m\u001b[0;34m(\u001b[0m\u001b[0melement\u001b[0m\u001b[0;34m[\u001b[0m\u001b[0;34m'input_list'\u001b[0m\u001b[0;34m]\u001b[0m\u001b[0;34m[\u001b[0m\u001b[0;34m'mapped_id_list'\u001b[0m\u001b[0;34m]\u001b[0m\u001b[0;34m[\u001b[0m\u001b[0;34m'mapped_id'\u001b[0m\u001b[0;34m]\u001b[0m\u001b[0;34m,\u001b[0m\u001b[0mlen\u001b[0m\u001b[0;34m(\u001b[0m\u001b[0melement\u001b[0m\u001b[0;34m[\u001b[0m\u001b[0;34m'input_list'\u001b[0m\u001b[0;34m]\u001b[0m\u001b[0;34m[\u001b[0m\u001b[0;34m'mapped_id_list'\u001b[0m\u001b[0;34m]\u001b[0m\u001b[0;34m[\u001b[0m\u001b[0;34m'mapped_id'\u001b[0m\u001b[0;34m]\u001b[0m\u001b[0;34m)\u001b[0m\u001b[0;34m)\u001b[0m\u001b[0;34m\u001b[0m\u001b[0;34m\u001b[0m\u001b[0m\n\u001b[0;32m---> 41\u001b[0;31m                         \u001b[0mgene_symbols\u001b[0m\u001b[0;34m=\u001b[0m\u001b[0;34m[\u001b[0m\u001b[0msynonyms\u001b[0m\u001b[0;34m[\u001b[0m\u001b[0mID\u001b[0m\u001b[0;34m]\u001b[0m\u001b[0;34m[\u001b[0m\u001b[0;36m0\u001b[0m\u001b[0;34m]\u001b[0m \u001b[0;32mfor\u001b[0m \u001b[0mID\u001b[0m \u001b[0;32min\u001b[0m \u001b[0melement\u001b[0m\u001b[0;34m[\u001b[0m\u001b[0;34m'input_list'\u001b[0m\u001b[0;34m]\u001b[0m\u001b[0;34m[\u001b[0m\u001b[0;34m'mapped_id_list'\u001b[0m\u001b[0;34m]\u001b[0m\u001b[0;34m[\u001b[0m\u001b[0;34m'mapped_id'\u001b[0m\u001b[0;34m]\u001b[0m\u001b[0;34m]\u001b[0m\u001b[0;34m\u001b[0m\u001b[0;34m\u001b[0m\u001b[0m\n\u001b[0m\u001b[1;32m     42\u001b[0m                         \u001b[0mgene_symbols_string\u001b[0m\u001b[0;34m=\u001b[0m\u001b[0;34m','\u001b[0m\u001b[0;34m.\u001b[0m\u001b[0mjoin\u001b[0m\u001b[0;34m(\u001b[0m\u001b[0mgene_symbols\u001b[0m\u001b[0;34m)\u001b[0m\u001b[0;34m\u001b[0m\u001b[0;34m\u001b[0m\u001b[0m\n\u001b[1;32m     43\u001b[0m                         \u001b[0;31m#gene_names=[synonyms[ID][1] for ID in element['input_list']['mapped_id_list']['mapped_id']]\u001b[0m\u001b[0;34m\u001b[0m\u001b[0;34m\u001b[0m\u001b[0;34m\u001b[0m\u001b[0m\n",
      "\u001b[0;32m<ipython-input-2-bf2cf74227e9>\u001b[0m in \u001b[0;36m<listcomp>\u001b[0;34m(.0)\u001b[0m\n\u001b[1;32m     39\u001b[0m                         \u001b[0mprint\u001b[0m\u001b[0;34m(\u001b[0m\u001b[0mlevel\u001b[0m\u001b[0;34m,\u001b[0m\u001b[0mterm\u001b[0m\u001b[0;34m,\u001b[0m\u001b[0mbackground_rank\u001b[0m\u001b[0;34m,\u001b[0m\u001b[0mfound_rank\u001b[0m\u001b[0;34m)\u001b[0m\u001b[0;34m\u001b[0m\u001b[0;34m\u001b[0m\u001b[0m\n\u001b[1;32m     40\u001b[0m                         \u001b[0mprint\u001b[0m\u001b[0;34m(\u001b[0m\u001b[0melement\u001b[0m\u001b[0;34m[\u001b[0m\u001b[0;34m'input_list'\u001b[0m\u001b[0;34m]\u001b[0m\u001b[0;34m[\u001b[0m\u001b[0;34m'mapped_id_list'\u001b[0m\u001b[0;34m]\u001b[0m\u001b[0;34m[\u001b[0m\u001b[0;34m'mapped_id'\u001b[0m\u001b[0;34m]\u001b[0m\u001b[0;34m,\u001b[0m\u001b[0mlen\u001b[0m\u001b[0;34m(\u001b[0m\u001b[0melement\u001b[0m\u001b[0;34m[\u001b[0m\u001b[0;34m'input_list'\u001b[0m\u001b[0;34m]\u001b[0m\u001b[0;34m[\u001b[0m\u001b[0;34m'mapped_id_list'\u001b[0m\u001b[0;34m]\u001b[0m\u001b[0;34m[\u001b[0m\u001b[0;34m'mapped_id'\u001b[0m\u001b[0;34m]\u001b[0m\u001b[0;34m)\u001b[0m\u001b[0;34m)\u001b[0m\u001b[0;34m\u001b[0m\u001b[0;34m\u001b[0m\u001b[0m\n\u001b[0;32m---> 41\u001b[0;31m                         \u001b[0mgene_symbols\u001b[0m\u001b[0;34m=\u001b[0m\u001b[0;34m[\u001b[0m\u001b[0msynonyms\u001b[0m\u001b[0;34m[\u001b[0m\u001b[0mID\u001b[0m\u001b[0;34m]\u001b[0m\u001b[0;34m[\u001b[0m\u001b[0;36m0\u001b[0m\u001b[0;34m]\u001b[0m \u001b[0;32mfor\u001b[0m \u001b[0mID\u001b[0m \u001b[0;32min\u001b[0m \u001b[0melement\u001b[0m\u001b[0;34m[\u001b[0m\u001b[0;34m'input_list'\u001b[0m\u001b[0;34m]\u001b[0m\u001b[0;34m[\u001b[0m\u001b[0;34m'mapped_id_list'\u001b[0m\u001b[0;34m]\u001b[0m\u001b[0;34m[\u001b[0m\u001b[0;34m'mapped_id'\u001b[0m\u001b[0;34m]\u001b[0m\u001b[0;34m]\u001b[0m\u001b[0;34m\u001b[0m\u001b[0;34m\u001b[0m\u001b[0m\n\u001b[0m\u001b[1;32m     42\u001b[0m                         \u001b[0mgene_symbols_string\u001b[0m\u001b[0;34m=\u001b[0m\u001b[0;34m','\u001b[0m\u001b[0;34m.\u001b[0m\u001b[0mjoin\u001b[0m\u001b[0;34m(\u001b[0m\u001b[0mgene_symbols\u001b[0m\u001b[0;34m)\u001b[0m\u001b[0;34m\u001b[0m\u001b[0;34m\u001b[0m\u001b[0m\n\u001b[1;32m     43\u001b[0m                         \u001b[0;31m#gene_names=[synonyms[ID][1] for ID in element['input_list']['mapped_id_list']['mapped_id']]\u001b[0m\u001b[0;34m\u001b[0m\u001b[0;34m\u001b[0m\u001b[0;34m\u001b[0m\u001b[0m\n",
      "\u001b[0;31mKeyError\u001b[0m: 'E'"
     ]
    }
   ],
   "source": [
    "#for element in json_files:\n",
    "#    print(element)\n",
    "analysis('blue.json')"
   ]
  },
  {
   "cell_type": "code",
   "execution_count": null,
   "metadata": {},
   "outputs": [],
   "source": [
    "# need to fix one single element"
   ]
  }
 ],
 "metadata": {
  "kernelspec": {
   "display_name": "Python 3",
   "language": "python",
   "name": "python3"
  },
  "language_info": {
   "codemirror_mode": {
    "name": "ipython",
    "version": 3
   },
   "file_extension": ".py",
   "mimetype": "text/x-python",
   "name": "python",
   "nbconvert_exporter": "python",
   "pygments_lexer": "ipython3",
   "version": "3.7.3"
  }
 },
 "nbformat": 4,
 "nbformat_minor": 2
}
