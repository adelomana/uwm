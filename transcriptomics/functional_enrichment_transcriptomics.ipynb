{
 "cells": [
  {
   "cell_type": "code",
   "execution_count": 1,
   "metadata": {},
   "outputs": [],
   "source": [
    "import json,os"
   ]
  },
  {
   "cell_type": "code",
   "execution_count": 2,
   "metadata": {
    "scrolled": false
   },
   "outputs": [],
   "source": [
    "def analysis(json_file):\n",
    "    \n",
    "    color=json_file.split('.')[0]\n",
    "    amigo_file=amigo_dir+'{}.json'.format(color)\n",
    "    output_file=amigo_dir+'{}_formatted.txt'.format(color)\n",
    "    synonyms_file=amigo_dir+'{}_synonyms.txt'.format(color)\n",
    "    \n",
    "    # read synonyms file\n",
    "    synonyms={}\n",
    "    with open(synonyms_file,'r') as s:\n",
    "        for line in s:\n",
    "            v=line.split('\\t')\n",
    "            ensemblID=v[1]\n",
    "            gene_name=v[2].split(';')[0]\n",
    "            gene_symbol=v[2].split(';')[1]\n",
    "            synonyms[ensemblID]=[gene_symbol,gene_name]\n",
    "    # end read synonyms file\n",
    "    \n",
    "    g=open(output_file,'w')\n",
    "    g.write('Level\\tTerm\\tBackground rank\\tFound rank\\tExpected rank\\tFold enrichment\\tSign\\tP-value\\tTranscripts\\tGene symbols\\tGene names\\n')\n",
    "\n",
    "    with open(amigo_file,'r') as f:\n",
    "        data = json.load(f)\n",
    "        for group in data['overrepresentation']['group']:\n",
    "            if type(group) == dict:\n",
    "                if type(group['result']) == list:\n",
    "                    pathways=group['result']\n",
    "                elif type(group['result']) == dict:\n",
    "                    pathways=[group['result']]\n",
    "                else:\n",
    "                    print('ERROR: value not considered for variable group[result].')\n",
    "                \n",
    "                for element in pathways:\n",
    "                        \n",
    "                    \n",
    "                    sign=element['input_list']['plus_minus']\n",
    "                    if sign == '+':\n",
    "                        level=element['term']['level']\n",
    "                        term=element['term']['label']\n",
    "                        background_rank=element['number_in_reference']\n",
    "                        found_rank=element['input_list']['number_in_list']\n",
    "                        expected_rank=element['input_list']['expected']\n",
    "                        fold_enrichment=element['input_list']['fold_enrichment']\n",
    "                        pvalue=element['input_list']['pValue']\n",
    "\n",
    "                        working_variable=element['input_list']['mapped_id_list']['mapped_id']\n",
    "                        if type(working_variable) == list:\n",
    "                            transcripts=working_variable\n",
    "                            gene_symbols=[synonyms[ID][0] for ID in transcripts]\n",
    "                            gene_names=[synonyms[ID][1] for ID in transcripts]\n",
    "                        elif type(working_variable) == str:\n",
    "                            transcripts=[working_variable]\n",
    "                            gene_symbols=[synonyms[transcripts[0]][0]]\n",
    "                            gene_names=[synonyms[transcripts[0]][1]]\n",
    "                        else:\n",
    "                            print('ERROR: value not considered for variable working_variable.')\n",
    "\n",
    "                        transcripts_string=','.join(transcripts)\n",
    "                        gene_symbols_string=','.join(gene_symbols)\n",
    "                        gene_names_string=','.join(gene_names)\n",
    "\n",
    "                        g.write('{}\\t'.format(level))\n",
    "                        g.write('{}\\t'.format(term))\n",
    "                        g.write('{}\\t'.format(background_rank))\n",
    "                        g.write('{}\\t'.format(found_rank))\n",
    "                        g.write('{}\\t'.format(expected_rank))\n",
    "                        g.write('{}\\t'.format(fold_enrichment))\n",
    "                        g.write('{}\\t'.format(sign))\n",
    "                        g.write('{}\\t'.format(pvalue))\n",
    "                        g.write('{}\\t'.format(transcripts_string))\n",
    "                        g.write('{}\\t'.format(gene_symbols_string))\n",
    "                        g.write('{}\\t'.format(gene_names_string))\n",
    "\n",
    "                        g.write('\\n')\n",
    "                     \n",
    "    g.close()\n",
    "    \n",
    "    return None"
   ]
  },
  {
   "cell_type": "markdown",
   "metadata": {},
   "source": [
    "# 0. User defined variables"
   ]
  },
  {
   "cell_type": "code",
   "execution_count": 3,
   "metadata": {},
   "outputs": [],
   "source": [
    "amigo_dir='/Volumes/omics4tb2/alomana/projects/uwm/results/transcriptomics/tables/formatted/E/'"
   ]
  },
  {
   "cell_type": "markdown",
   "metadata": {},
   "source": [
    "# 1. Detect files"
   ]
  },
  {
   "cell_type": "code",
   "execution_count": 4,
   "metadata": {},
   "outputs": [
    {
     "name": "stdout",
     "output_type": "stream",
     "text": [
      "['blue.json', 'magenta.json', 'red.json', 'orange.json', 'green.json', 'maroon.json', 'cyan.json', 'indigo.json']\n"
     ]
    }
   ],
   "source": [
    "files=os.listdir(amigo_dir)\n",
    "json_files=[element for element in files if 'json' in element and element[0] != '.']\n",
    "print(json_files)"
   ]
  },
  {
   "cell_type": "markdown",
   "metadata": {},
   "source": [
    "# 2. Analysis"
   ]
  },
  {
   "cell_type": "code",
   "execution_count": 6,
   "metadata": {},
   "outputs": [
    {
     "name": "stdout",
     "output_type": "stream",
     "text": [
      "blue.json\n",
      "magenta.json\n",
      "red.json\n",
      "orange.json\n",
      "green.json\n",
      "maroon.json\n",
      "cyan.json\n",
      "indigo.json\n"
     ]
    }
   ],
   "source": [
    "for element in json_files:\n",
    "    print(element)\n",
    "    analysis(element)"
   ]
  }
 ],
 "metadata": {
  "kernelspec": {
   "display_name": "Python 3",
   "language": "python",
   "name": "python3"
  },
  "language_info": {
   "codemirror_mode": {
    "name": "ipython",
    "version": 3
   },
   "file_extension": ".py",
   "mimetype": "text/x-python",
   "name": "python",
   "nbconvert_exporter": "python",
   "pygments_lexer": "ipython3",
   "version": "3.7.5"
  }
 },
 "nbformat": 4,
 "nbformat_minor": 2
}
