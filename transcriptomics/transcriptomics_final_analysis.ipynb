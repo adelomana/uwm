{
 "cells": [
  {
   "cell_type": "code",
   "execution_count": 1,
   "metadata": {},
   "outputs": [],
   "source": [
    "# read data, and follow proteomics analysis.\n",
    "# test if I get similar results using TPMs"
   ]
  },
  {
   "cell_type": "code",
   "execution_count": 2,
   "metadata": {},
   "outputs": [],
   "source": [
    "import os,sys,pandas,numpy\n",
    "import matplotlib,matplotlib.pyplot\n",
    "\n",
    "matplotlib.rcParams.update({'font.size':18,'font.family':'Arial','xtick.labelsize':14,'ytick.labelsize':14,'axes.labelsize':18})\n",
    "matplotlib.rcParams['pdf.fonttype']=42"
   ]
  },
  {
   "cell_type": "markdown",
   "metadata": {},
   "source": [
    "# 1. User defined variables"
   ]
  },
  {
   "cell_type": "code",
   "execution_count": 3,
   "metadata": {},
   "outputs": [],
   "source": [
    "transcriptomics_file='/Volumes/omics4tb2/alomana/projects/uwm/results/transcriptomics/rld_E.csv'\n",
    "results_dir='/Volumes/omics4tb2/alomana/projects/uwm/results/transcriptomics/'"
   ]
  },
  {
   "cell_type": "markdown",
   "metadata": {},
   "source": [
    "# 2. Read data"
   ]
  },
  {
   "cell_type": "code",
   "execution_count": 4,
   "metadata": {},
   "outputs": [
    {
     "name": "stdout",
     "output_type": "stream",
     "text": [
      "(11060, 6)\n"
     ]
    },
    {
     "data": {
      "text/html": [
       "<div>\n",
       "<style scoped>\n",
       "    .dataframe tbody tr th:only-of-type {\n",
       "        vertical-align: middle;\n",
       "    }\n",
       "\n",
       "    .dataframe tbody tr th {\n",
       "        vertical-align: top;\n",
       "    }\n",
       "\n",
       "    .dataframe thead th {\n",
       "        text-align: right;\n",
       "    }\n",
       "</style>\n",
       "<table border=\"1\" class=\"dataframe\">\n",
       "  <thead>\n",
       "    <tr style=\"text-align: right;\">\n",
       "      <th></th>\n",
       "      <th>HMDM.1</th>\n",
       "      <th>HMDM.2</th>\n",
       "      <th>THP1.1</th>\n",
       "      <th>THP1.2</th>\n",
       "      <th>iMac.1</th>\n",
       "      <th>iMac.2</th>\n",
       "    </tr>\n",
       "  </thead>\n",
       "  <tbody>\n",
       "    <tr>\n",
       "      <td>ENSG00000225630</td>\n",
       "      <td>8.177918</td>\n",
       "      <td>8.120705</td>\n",
       "      <td>13.057248</td>\n",
       "      <td>13.903673</td>\n",
       "      <td>10.057944</td>\n",
       "      <td>10.004066</td>\n",
       "    </tr>\n",
       "    <tr>\n",
       "      <td>ENSG00000237973</td>\n",
       "      <td>10.685139</td>\n",
       "      <td>10.792575</td>\n",
       "      <td>9.884824</td>\n",
       "      <td>10.299890</td>\n",
       "      <td>12.542713</td>\n",
       "      <td>12.701048</td>\n",
       "    </tr>\n",
       "    <tr>\n",
       "      <td>ENSG00000248527</td>\n",
       "      <td>13.284513</td>\n",
       "      <td>13.409839</td>\n",
       "      <td>12.477664</td>\n",
       "      <td>13.088571</td>\n",
       "      <td>14.636020</td>\n",
       "      <td>14.360452</td>\n",
       "    </tr>\n",
       "    <tr>\n",
       "      <td>ENSG00000228794</td>\n",
       "      <td>8.814763</td>\n",
       "      <td>8.606587</td>\n",
       "      <td>9.225290</td>\n",
       "      <td>9.267763</td>\n",
       "      <td>8.901341</td>\n",
       "      <td>9.218989</td>\n",
       "    </tr>\n",
       "    <tr>\n",
       "      <td>ENSG00000188976</td>\n",
       "      <td>11.271815</td>\n",
       "      <td>11.268603</td>\n",
       "      <td>11.874815</td>\n",
       "      <td>12.329922</td>\n",
       "      <td>11.327960</td>\n",
       "      <td>11.259906</td>\n",
       "    </tr>\n",
       "  </tbody>\n",
       "</table>\n",
       "</div>"
      ],
      "text/plain": [
       "                    HMDM.1     HMDM.2     THP1.1     THP1.2     iMac.1  \\\n",
       "ENSG00000225630   8.177918   8.120705  13.057248  13.903673  10.057944   \n",
       "ENSG00000237973  10.685139  10.792575   9.884824  10.299890  12.542713   \n",
       "ENSG00000248527  13.284513  13.409839  12.477664  13.088571  14.636020   \n",
       "ENSG00000228794   8.814763   8.606587   9.225290   9.267763   8.901341   \n",
       "ENSG00000188976  11.271815  11.268603  11.874815  12.329922  11.327960   \n",
       "\n",
       "                    iMac.2  \n",
       "ENSG00000225630  10.004066  \n",
       "ENSG00000237973  12.701048  \n",
       "ENSG00000248527  14.360452  \n",
       "ENSG00000228794   9.218989  \n",
       "ENSG00000188976  11.259906  "
      ]
     },
     "execution_count": 4,
     "metadata": {},
     "output_type": "execute_result"
    }
   ],
   "source": [
    "df=pandas.read_csv(transcriptomics_file,sep=',',index_col=0)\n",
    "print(df.shape)\n",
    "df.head()"
   ]
  },
  {
   "cell_type": "markdown",
   "metadata": {},
   "source": [
    "# 3. Variable exploration"
   ]
  },
  {
   "cell_type": "code",
   "execution_count": 5,
   "metadata": {},
   "outputs": [
    {
     "data": {
      "text/html": [
       "<div>\n",
       "<style scoped>\n",
       "    .dataframe tbody tr th:only-of-type {\n",
       "        vertical-align: middle;\n",
       "    }\n",
       "\n",
       "    .dataframe tbody tr th {\n",
       "        vertical-align: top;\n",
       "    }\n",
       "\n",
       "    .dataframe thead th {\n",
       "        text-align: right;\n",
       "    }\n",
       "</style>\n",
       "<table border=\"1\" class=\"dataframe\">\n",
       "  <thead>\n",
       "    <tr style=\"text-align: right;\">\n",
       "      <th></th>\n",
       "      <th>HMDM.1</th>\n",
       "      <th>HMDM.2</th>\n",
       "      <th>THP1.1</th>\n",
       "      <th>THP1.2</th>\n",
       "      <th>iMac.1</th>\n",
       "      <th>iMac.2</th>\n",
       "      <th>HMDM.mean</th>\n",
       "      <th>THP1.mean</th>\n",
       "      <th>iMac.mean</th>\n",
       "      <th>Mean</th>\n",
       "      <th>STD</th>\n",
       "      <th>CV</th>\n",
       "    </tr>\n",
       "  </thead>\n",
       "  <tbody>\n",
       "    <tr>\n",
       "      <td>ENSG00000225630</td>\n",
       "      <td>8.177918</td>\n",
       "      <td>8.120705</td>\n",
       "      <td>13.057248</td>\n",
       "      <td>13.903673</td>\n",
       "      <td>10.057944</td>\n",
       "      <td>10.004066</td>\n",
       "      <td>8.149312</td>\n",
       "      <td>13.480461</td>\n",
       "      <td>10.031005</td>\n",
       "      <td>10.553592</td>\n",
       "      <td>2.703722</td>\n",
       "      <td>0.256190</td>\n",
       "    </tr>\n",
       "    <tr>\n",
       "      <td>ENSG00000237973</td>\n",
       "      <td>10.685139</td>\n",
       "      <td>10.792575</td>\n",
       "      <td>9.884824</td>\n",
       "      <td>10.299890</td>\n",
       "      <td>12.542713</td>\n",
       "      <td>12.701048</td>\n",
       "      <td>10.738857</td>\n",
       "      <td>10.092357</td>\n",
       "      <td>12.621880</td>\n",
       "      <td>11.151031</td>\n",
       "      <td>1.314168</td>\n",
       "      <td>0.117852</td>\n",
       "    </tr>\n",
       "    <tr>\n",
       "      <td>ENSG00000248527</td>\n",
       "      <td>13.284513</td>\n",
       "      <td>13.409839</td>\n",
       "      <td>12.477664</td>\n",
       "      <td>13.088571</td>\n",
       "      <td>14.636020</td>\n",
       "      <td>14.360452</td>\n",
       "      <td>13.347176</td>\n",
       "      <td>12.783117</td>\n",
       "      <td>14.498236</td>\n",
       "      <td>13.542843</td>\n",
       "      <td>0.874141</td>\n",
       "      <td>0.064546</td>\n",
       "    </tr>\n",
       "    <tr>\n",
       "      <td>ENSG00000228794</td>\n",
       "      <td>8.814763</td>\n",
       "      <td>8.606587</td>\n",
       "      <td>9.225290</td>\n",
       "      <td>9.267763</td>\n",
       "      <td>8.901341</td>\n",
       "      <td>9.218989</td>\n",
       "      <td>8.710675</td>\n",
       "      <td>9.246527</td>\n",
       "      <td>9.060165</td>\n",
       "      <td>9.005789</td>\n",
       "      <td>0.272033</td>\n",
       "      <td>0.030206</td>\n",
       "    </tr>\n",
       "    <tr>\n",
       "      <td>ENSG00000188976</td>\n",
       "      <td>11.271815</td>\n",
       "      <td>11.268603</td>\n",
       "      <td>11.874815</td>\n",
       "      <td>12.329922</td>\n",
       "      <td>11.327960</td>\n",
       "      <td>11.259906</td>\n",
       "      <td>11.270209</td>\n",
       "      <td>12.102369</td>\n",
       "      <td>11.293933</td>\n",
       "      <td>11.555503</td>\n",
       "      <td>0.473748</td>\n",
       "      <td>0.040998</td>\n",
       "    </tr>\n",
       "  </tbody>\n",
       "</table>\n",
       "</div>"
      ],
      "text/plain": [
       "                    HMDM.1     HMDM.2     THP1.1     THP1.2     iMac.1  \\\n",
       "ENSG00000225630   8.177918   8.120705  13.057248  13.903673  10.057944   \n",
       "ENSG00000237973  10.685139  10.792575   9.884824  10.299890  12.542713   \n",
       "ENSG00000248527  13.284513  13.409839  12.477664  13.088571  14.636020   \n",
       "ENSG00000228794   8.814763   8.606587   9.225290   9.267763   8.901341   \n",
       "ENSG00000188976  11.271815  11.268603  11.874815  12.329922  11.327960   \n",
       "\n",
       "                    iMac.2  HMDM.mean  THP1.mean  iMac.mean       Mean  \\\n",
       "ENSG00000225630  10.004066   8.149312  13.480461  10.031005  10.553592   \n",
       "ENSG00000237973  12.701048  10.738857  10.092357  12.621880  11.151031   \n",
       "ENSG00000248527  14.360452  13.347176  12.783117  14.498236  13.542843   \n",
       "ENSG00000228794   9.218989   8.710675   9.246527   9.060165   9.005789   \n",
       "ENSG00000188976  11.259906  11.270209  12.102369  11.293933  11.555503   \n",
       "\n",
       "                      STD        CV  \n",
       "ENSG00000225630  2.703722  0.256190  \n",
       "ENSG00000237973  1.314168  0.117852  \n",
       "ENSG00000248527  0.874141  0.064546  \n",
       "ENSG00000228794  0.272033  0.030206  \n",
       "ENSG00000188976  0.473748  0.040998  "
      ]
     },
     "execution_count": 5,
     "metadata": {},
     "output_type": "execute_result"
    }
   ],
   "source": [
    "df['HMDM.mean']=df.loc[:,['HMDM.1','HMDM.2']].mean(axis=1)\n",
    "df['THP1.mean']=df.loc[:,['THP1.1','THP1.2']].mean(axis=1)\n",
    "df['iMac.mean']=df.loc[:,['iMac.1','iMac.2']].mean(axis=1)\n",
    "df['Mean']=df.loc[:,['HMDM.mean','THP1.mean','iMac.mean']].mean(axis=1)\n",
    "df['STD']=df.loc[:,['HMDM.mean','THP1.mean','iMac.mean']].std(axis=1)\n",
    "df['CV']=df['STD']/df['Mean']\n",
    "df.head()"
   ]
  },
  {
   "cell_type": "code",
   "execution_count": 6,
   "metadata": {},
   "outputs": [
    {
     "data": {
      "image/png": "[encoded data removed]",
      "text/plain": [
       "<Figure size 432x288 with 1 Axes>"
      ]
     },
     "metadata": {
      "needs_background": "light"
     },
     "output_type": "display_data"
    }
   ],
   "source": [
    "matplotlib.pyplot.plot(df['Mean'],df['CV'],'ok',alpha=0.05,mew=0)\n",
    "matplotlib.pyplot.xlabel('Normalized count')\n",
    "matplotlib.pyplot.ylabel('CV')\n",
    "matplotlib.pyplot.grid()"
   ]
  },
  {
   "cell_type": "code",
   "execution_count": null,
   "metadata": {},
   "outputs": [],
   "source": [
    "# consider doing the analysis for E and HE separately"
   ]
  }
 ],
 "metadata": {
  "kernelspec": {
   "display_name": "Python 3",
   "language": "python",
   "name": "python3"
  },
  "language_info": {
   "codemirror_mode": {
    "name": "ipython",
    "version": 3
   },
   "file_extension": ".py",
   "mimetype": "text/x-python",
   "name": "python",
   "nbconvert_exporter": "python",
   "pygments_lexer": "ipython3",
   "version": "3.7.4"
  }
 },
 "nbformat": 4,
 "nbformat_minor": 2
}
