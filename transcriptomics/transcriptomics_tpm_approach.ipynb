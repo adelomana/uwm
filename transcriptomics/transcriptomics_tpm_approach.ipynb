{
 "cells": [
  {
   "cell_type": "code",
   "execution_count": 15,
   "metadata": {},
   "outputs": [],
   "source": [
    "import os,sys\n",
    "import matplotlib,matplotlib.pyplot\n",
    "\n",
    "matplotlib.rcParams.update({'font.size':18,'font.family':'Arial','xtick.labelsize':14,'ytick.labelsize':14,'axes.labelsize':18})\n",
    "matplotlib.rcParams['pdf.fonttype']=42"
   ]
  },
  {
   "cell_type": "markdown",
   "metadata": {},
   "source": [
    "# 1. User defined variables"
   ]
  },
  {
   "cell_type": "code",
   "execution_count": 5,
   "metadata": {},
   "outputs": [],
   "source": [
    "transcriptomics_dir='/Volumes/omics4tb2/alomana/projects/uwm/data/transcriptomics/'\n",
    "results_dir='/Volumes/omics4tb2/alomana/projects/uwm/results/transcriptomics/'"
   ]
  },
  {
   "cell_type": "markdown",
   "metadata": {},
   "source": [
    "# 2. Read data"
   ]
  },
  {
   "cell_type": "code",
   "execution_count": 8,
   "metadata": {},
   "outputs": [],
   "source": [
    "files=os.listdir(transcriptomics_dir)\n",
    "selected_files=[element for element in files if element[0] != '.']"
   ]
  },
  {
   "cell_type": "code",
   "execution_count": 9,
   "metadata": {},
   "outputs": [
    {
     "name": "stdout",
     "output_type": "stream",
     "text": [
      "['HMDM-1.counts.txt', 'HMDM-2.counts.txt', 'THP1-1.counts.txt', 'THP1-2.counts.txt', 'iMac-1.counts.txt', 'iMac-2.counts.txt']\n"
     ]
    }
   ],
   "source": [
    "print(selected_files)"
   ]
  },
  {
   "cell_type": "code",
   "execution_count": 21,
   "metadata": {},
   "outputs": [],
   "source": [
    "counts={} # counts[sample_label][gene_id]=count_value\n",
    "transcript_lengths={}\n",
    "\n",
    "for working_file in selected_files:\n",
    "    sample_label=working_file.split('.counts')[0]\n",
    "    counts[sample_label]={}\n",
    "    with open(transcriptomics_dir+working_file,'r') as f:\n",
    "        next(f)\n",
    "        for line in f:\n",
    "            v=line.split('\\t')\n",
    "            gene_id=v[0]\n",
    "            count_value=int(v[-1])\n",
    "            length=int(v[-2])\n",
    "            counts[sample_label][gene_id]=count_value\n",
    "            transcript_lengths[gene_id]=length"
   ]
  },
  {
   "cell_type": "markdown",
   "metadata": {},
   "source": [
    "# 3. Transform count data into TPM data"
   ]
  },
  {
   "cell_type": "code",
   "execution_count": 26,
   "metadata": {},
   "outputs": [],
   "source": [
    "tpms={}\n",
    "for sample_id in counts:\n",
    "    tpms[sample_id]={}\n",
    "    rpk_sum=0\n",
    "    for gene_id in counts[sample_id]:\n",
    "        count_value=counts[sample_id][gene_id]\n",
    "        reads_per_kilobase=count_value/(transcript_lengths[gene_id]/1000)\n",
    "        rpk_sum=rpk_sum+reads_per_kilobase\n",
    "    scaling_factor=rpk_sum/1e6\n",
    "    for gene_id in counts[sample_id]:\n",
    "        count_value=counts[sample_id][gene_id]\n",
    "        reads_per_kilobase=count_value/(transcript_lengths[gene_id]/1000)\n",
    "        tpm=reads_per_kilobase/scaling_factor\n",
    "        tpms[sample_id][gene_id]=tpm"
   ]
  },
  {
   "cell_type": "code",
   "execution_count": null,
   "metadata": {},
   "outputs": [],
   "source": [
    "# consider doing the work with DESeq2 too\n",
    "# https://bioc.ism.ac.jp/packages/2.14/bioc/vignettes/DESeq2/inst/doc/beginner.pdf"
   ]
  }
 ],
 "metadata": {
  "kernelspec": {
   "display_name": "Python 3",
   "language": "python",
   "name": "python3"
  },
  "language_info": {
   "codemirror_mode": {
    "name": "ipython",
    "version": 3
   },
   "file_extension": ".py",
   "mimetype": "text/x-python",
   "name": "python",
   "nbconvert_exporter": "python",
   "pygments_lexer": "ipython3",
   "version": "3.7.4"
  }
 },
 "nbformat": 4,
 "nbformat_minor": 2
}
