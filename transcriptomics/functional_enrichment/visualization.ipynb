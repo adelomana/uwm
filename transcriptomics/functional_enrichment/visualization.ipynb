{
 "cells": [
  {
   "cell_type": "code",
   "execution_count": 1,
   "metadata": {},
   "outputs": [],
   "source": [
    "import matplotlib,matplotlib.pyplot\n",
    "import networkx"
   ]
  },
  {
   "cell_type": "markdown",
   "metadata": {},
   "source": [
    "# 0. user defined variables"
   ]
  },
  {
   "cell_type": "code",
   "execution_count": 2,
   "metadata": {},
   "outputs": [],
   "source": [
    "reactome_folder='/Volumes/omics4tb2/alomana/projects/uwm/results/transcriptomics/tables/formatted/E/'\n",
    "colors=['red','blue','orange','green']"
   ]
  },
  {
   "cell_type": "code",
   "execution_count": 3,
   "metadata": {},
   "outputs": [],
   "source": [
    "# 1. read info"
   ]
  },
  {
   "cell_type": "code",
   "execution_count": 10,
   "metadata": {},
   "outputs": [
    {
     "name": "stdout",
     "output_type": "stream",
     "text": [
      "0 1 0\n",
      "0 2 0\n",
      "0 3 1\n",
      "0 4 0\n",
      "1 2 16\n",
      "1 3 3\n",
      "1 4 16\n",
      "2 3 4\n",
      "2 4 17\n",
      "3 4 4\n"
     ]
    }
   ],
   "source": [
    "for color in colors:\n",
    "    enrichment_file=reactome_folder+color+'_formatted.txt'\n",
    "    enrichments={}\n",
    "    with open(enrichment_file,'r') as f:\n",
    "        next(f)\n",
    "        for line in f:\n",
    "            v=line.split('\\t')\n",
    "            if v[0] == '0':\n",
    "                name=v[1]\n",
    "                genes=v[8].split(',')\n",
    "                enrichments[name]=genes\n",
    "    # work on enrichmements, find common genes as interactions\n",
    "    labels=list(enrichments.keys())\n",
    "    for i in range(len(labels)):\n",
    "        for j in range(len(labels)):\n",
    "            if i < j:\n",
    "                intersect=list(set(enrichments[labels[i]]) & set(enrichments[labels[j]]))\n",
    "                print(i,j,len(intersect))\n",
    "    break"
   ]
  },
  {
   "cell_type": "code",
   "execution_count": null,
   "metadata": {},
   "outputs": [],
   "source": [
    "build graph based on sizenode=number of genes and edge based on number of shared. check that larger weight means shorter distance in figure"
   ]
  },
  {
   "cell_type": "code",
   "execution_count": null,
   "metadata": {},
   "outputs": [],
   "source": []
  },
  {
   "cell_type": "code",
   "execution_count": null,
   "metadata": {},
   "outputs": [],
   "source": []
  },
  {
   "cell_type": "code",
   "execution_count": null,
   "metadata": {},
   "outputs": [],
   "source": []
  },
  {
   "cell_type": "code",
   "execution_count": null,
   "metadata": {},
   "outputs": [],
   "source": []
  },
  {
   "cell_type": "code",
   "execution_count": 5,
   "metadata": {},
   "outputs": [],
   "source": [
    "G = networkx.Graph()"
   ]
  },
  {
   "cell_type": "code",
   "execution_count": 6,
   "metadata": {},
   "outputs": [],
   "source": [
    "G.add_edge('a', 'b', weight=0.6)\n",
    "G.add_edge('a', 'c', weight=0.2)\n",
    "G.add_edge('c', 'd', weight=0.1)\n",
    "G.add_edge('c', 'e', weight=0.7)\n",
    "G.add_edge('c', 'f', weight=0.9)\n",
    "G.add_edge('a', 'd', weight=0.3)"
   ]
  },
  {
   "cell_type": "code",
   "execution_count": 7,
   "metadata": {},
   "outputs": [],
   "source": [
    "elarge = [(u, v) for (u, v, d) in G.edges(data=True) if d['weight'] > 0.5]"
   ]
  },
  {
   "cell_type": "code",
   "execution_count": 8,
   "metadata": {},
   "outputs": [],
   "source": [
    "# positions for all nodes\n",
    "pos = networkx.spring_layout(G)  "
   ]
  },
  {
   "cell_type": "markdown",
   "metadata": {},
   "source": [
    "# draw"
   ]
  },
  {
   "cell_type": "code",
   "execution_count": 9,
   "metadata": {},
   "outputs": [
    {
     "data": {
      "image/png": "[encoded data removed]",
      "text/plain": [
       "<Figure size 432x288 with 1 Axes>"
      ]
     },
     "metadata": {},
     "output_type": "display_data"
    }
   ],
   "source": [
    "# nodes\n",
    "networkx.draw_networkx_nodes(G, pos, node_size=700)\n",
    "\n",
    "# edges\n",
    "networkx.draw_networkx_edges(G, pos, edgelist=elarge,width=6)\n",
    "\n",
    "# labels\n",
    "tempo=networkx.draw_networkx_labels(G, pos, font_size=20, font_family='sans-serif')\n",
    "#matplotlib.pyplot.axis('off')"
   ]
  },
  {
   "cell_type": "code",
   "execution_count": null,
   "metadata": {},
   "outputs": [],
   "source": []
  }
 ],
 "metadata": {
  "kernelspec": {
   "display_name": "Python 3",
   "language": "python",
   "name": "python3"
  },
  "language_info": {
   "codemirror_mode": {
    "name": "ipython",
    "version": 3
   },
   "file_extension": ".py",
   "mimetype": "text/x-python",
   "name": "python",
   "nbconvert_exporter": "python",
   "pygments_lexer": "ipython3",
   "version": "3.7.3"
  }
 },
 "nbformat": 4,
 "nbformat_minor": 2
}
