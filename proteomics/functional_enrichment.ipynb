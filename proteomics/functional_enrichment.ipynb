{
 "cells": [
  {
   "cell_type": "code",
   "execution_count": 1,
   "metadata": {},
   "outputs": [],
   "source": [
    "import json,os"
   ]
  },
  {
   "cell_type": "code",
   "execution_count": 2,
   "metadata": {
    "scrolled": false
   },
   "outputs": [],
   "source": [
    "def analysis(json_file):\n",
    "    \n",
    "    color=json_file.split('.')[0]\n",
    "    amigo_file=amigo_dir+'{}.json'.format(color)\n",
    "    output_file=amigo_dir+'{}_formatted.txt'.format(color)\n",
    "    \n",
    "    g=open(output_file,'w')\n",
    "    g.write('Level\\tTerm\\tBackground rank\\tFound rank\\tExpected rank\\tFold enrichment\\tSign\\tP-value\\tProteins\\n')\n",
    "\n",
    "    with open(amigo_file,'r') as f:\n",
    "        data = json.load(f)\n",
    "        for group in data['overrepresentation']['group']:\n",
    "            for element in group['result']:\n",
    "                if type(element) == dict:\n",
    "                    #print('element',type(element),element.keys(),element['term'])\n",
    "\n",
    "                    level=element['term']['level']\n",
    "                    term=element['term']['label']\n",
    "                    background_rank=element['number_in_reference']\n",
    "                    found_rank=element['input_list']['number_in_list']\n",
    "                    expected_rank=element['input_list']['expected']\n",
    "                    fold_enrichment=element['input_list']['fold_enrichment']\n",
    "                    sign=element['input_list']['plus_minus']\n",
    "                    pvalue=element['input_list']['pValue']\n",
    "                    proteins=','.join(element['input_list']['mapped_id_list']['mapped_id'])\n",
    "\n",
    "                    g.write('{}\\t'.format(level))\n",
    "                    g.write('{}\\t'.format(term))\n",
    "                    g.write('{}\\t'.format(background_rank))\n",
    "                    g.write('{}\\t'.format(found_rank))\n",
    "                    g.write('{}\\t'.format(expected_rank))\n",
    "                    g.write('{}\\t'.format(fold_enrichment))\n",
    "                    g.write('{}\\t'.format(sign))\n",
    "                    g.write('{}\\t'.format(pvalue))\n",
    "                    g.write('{}\\t'.format(proteins))\n",
    "\n",
    "                    g.write('\\n')\n",
    "\n",
    "    g.close()\n",
    "    \n",
    "    return None"
   ]
  },
  {
   "cell_type": "markdown",
   "metadata": {},
   "source": [
    "# 0. User defined variables"
   ]
  },
  {
   "cell_type": "code",
   "execution_count": 3,
   "metadata": {},
   "outputs": [],
   "source": [
    "amigo_dir='/Volumes/omics4tb2/alomana/projects/uwm/results/proteomics/tables/'"
   ]
  },
  {
   "cell_type": "markdown",
   "metadata": {},
   "source": [
    "# 1. Detect files"
   ]
  },
  {
   "cell_type": "code",
   "execution_count": 4,
   "metadata": {},
   "outputs": [],
   "source": [
    "files=os.listdir(amigo_dir)\n",
    "json_files=[element for element in files if 'json' in element and element[0] != '.']"
   ]
  },
  {
   "cell_type": "markdown",
   "metadata": {},
   "source": [
    "# 2. Analysis"
   ]
  },
  {
   "cell_type": "code",
   "execution_count": 5,
   "metadata": {},
   "outputs": [
    {
     "name": "stdout",
     "output_type": "stream",
     "text": [
      "blue.json\n",
      "red.json\n",
      "orange.json\n",
      "maroon.json\n",
      "indigo.json\n",
      "green.json\n",
      "cyan.json\n",
      "black.json\n"
     ]
    }
   ],
   "source": [
    "for element in json_files:\n",
    "    print(element)\n",
    "    analysis(element)"
   ]
  },
  {
   "cell_type": "code",
   "execution_count": null,
   "metadata": {},
   "outputs": [],
   "source": []
  }
 ],
 "metadata": {
  "kernelspec": {
   "display_name": "Python 3",
   "language": "python",
   "name": "python3"
  },
  "language_info": {
   "codemirror_mode": {
    "name": "ipython",
    "version": 3
   },
   "file_extension": ".py",
   "mimetype": "text/x-python",
   "name": "python",
   "nbconvert_exporter": "python",
   "pygments_lexer": "ipython3",
   "version": "3.7.3"
  }
 },
 "nbformat": 4,
 "nbformat_minor": 2
}
