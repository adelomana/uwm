{
 "cells": [
  {
   "cell_type": "code",
   "execution_count": 1,
   "metadata": {},
   "outputs": [],
   "source": [
    "import json"
   ]
  },
  {
   "cell_type": "code",
   "execution_count": 2,
   "metadata": {},
   "outputs": [],
   "source": [
    "amigo_file='/Users/alomana/scratch/analysis.json'"
   ]
  },
  {
   "cell_type": "code",
   "execution_count": 9,
   "metadata": {
    "scrolled": false
   },
   "outputs": [
    {
     "name": "stdout",
     "output_type": "stream",
     "text": [
      "element <class 'dict'> dict_keys(['input_list', 'number_in_reference', 'term']) {'level': 0, 'id': 'R-HSA-1222556', 'label': 'ROS, RNS production in phagocytes'}\n",
      "element <class 'dict'> dict_keys(['input_list', 'number_in_reference', 'term']) {'level': 1, 'id': 'R-HSA-168249', 'label': 'Innate Immune System'}\n",
      "element <class 'dict'> dict_keys(['input_list', 'number_in_reference', 'term']) {'level': 0, 'id': 'R-HSA-77387', 'label': 'Insulin receptor recycling'}\n",
      "element <class 'dict'> dict_keys(['input_list', 'number_in_reference', 'term']) {'level': 1, 'id': 'R-HSA-74752', 'label': 'Signaling by Insulin receptor'}\n",
      "element <class 'dict'> dict_keys(['input_list', 'number_in_reference', 'term']) {'level': 2, 'id': 'R-HSA-9006934', 'label': 'Signaling by Receptor Tyrosine Kinases'}\n",
      "element <class 'dict'> dict_keys(['input_list', 'number_in_reference', 'term']) {'level': 0, 'id': 'R-HSA-2022857', 'label': 'Keratan sulfate degradation'}\n",
      "element <class 'dict'> dict_keys(['input_list', 'number_in_reference', 'term']) {'level': 3, 'id': 'R-HSA-71387', 'label': 'Metabolism of carbohydrates'}\n",
      "element <class 'dict'> dict_keys(['input_list', 'number_in_reference', 'term']) {'level': 0, 'id': 'R-HSA-917977', 'label': 'Transferrin endocytosis and recycling'}\n",
      "element <class 'dict'> dict_keys(['input_list', 'number_in_reference', 'term']) {'level': 1, 'id': 'R-HSA-917937', 'label': 'Iron uptake and transport'}\n",
      "element <class 'dict'> dict_keys(['input_list', 'number_in_reference', 'term']) {'level': 0, 'id': 'R-HSA-1660662', 'label': 'Glycosphingolipid metabolism'}\n",
      "element <class 'dict'> dict_keys(['input_list', 'number_in_reference', 'term']) {'level': 1, 'id': 'R-HSA-428157', 'label': 'Sphingolipid metabolism'}\n",
      "element <class 'dict'> dict_keys(['input_list', 'number_in_reference', 'term']) {'level': 0, 'id': 'R-HSA-421837', 'label': 'Clathrin derived vesicle budding'}\n",
      "element <class 'dict'> dict_keys(['input_list', 'number_in_reference', 'term']) {'level': 1, 'id': 'R-HSA-199992', 'label': 'trans-Golgi Network Vesicle Budding'}\n",
      "element <class 'dict'> dict_keys(['input_list', 'number_in_reference', 'term']) {'level': 2, 'id': 'R-HSA-199991', 'label': 'Membrane Trafficking'}\n",
      "element <class 'dict'> dict_keys(['input_list', 'number_in_reference', 'term']) {'level': 0, 'id': 'R-HSA-2132295', 'label': 'MHC class II antigen presentation'}\n",
      "element <class 'dict'> dict_keys(['input_list', 'number_in_reference', 'term']) {'level': 1, 'id': 'R-HSA-1280218', 'label': 'Adaptive Immune System'}\n"
     ]
    }
   ],
   "source": [
    "with open(amigo_file,'r') as f:\n",
    "    data = json.load(f)\n",
    "    for group in data['overrepresentation']['group']:\n",
    "        for element in group['result']:\n",
    "            if type(element) == dict:\n",
    "                print('element',type(element),element.keys(),element['term'])\n",
    "            \n",
    "        "
   ]
  },
  {
   "cell_type": "code",
   "execution_count": null,
   "metadata": {},
   "outputs": [],
   "source": []
  },
  {
   "cell_type": "code",
   "execution_count": null,
   "metadata": {},
   "outputs": [],
   "source": []
  }
 ],
 "metadata": {
  "kernelspec": {
   "display_name": "Python 3",
   "language": "python",
   "name": "python3"
  },
  "language_info": {
   "codemirror_mode": {
    "name": "ipython",
    "version": 3
   },
   "file_extension": ".py",
   "mimetype": "text/x-python",
   "name": "python",
   "nbconvert_exporter": "python",
   "pygments_lexer": "ipython3",
   "version": "3.7.3"
  }
 },
 "nbformat": 4,
 "nbformat_minor": 2
}
