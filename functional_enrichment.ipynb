{
 "cells": [
  {
   "cell_type": "code",
   "execution_count": 1,
   "metadata": {},
   "outputs": [],
   "source": [
    "import json"
   ]
  },
  {
   "cell_type": "code",
   "execution_count": 2,
   "metadata": {},
   "outputs": [],
   "source": [
    "amigo_file='/Users/alomana/scratch/analysis.json'"
   ]
  },
  {
   "cell_type": "code",
   "execution_count": 25,
   "metadata": {},
   "outputs": [
    {
     "name": "stdout",
     "output_type": "stream",
     "text": [
      "\n",
      "{'input_list': {'number_in_list': 11, 'fold_enrichment': 50.82658450704225, 'expected': 0.21642217565250527, 'pValue': 8.017260187948383e-12, 'mapped_id_list': {'mapped_id': ['VATA', 'VATB2', 'CY24B', 'VPP3', 'NCF2', 'VATH', 'NCF4', 'VATG1', 'VATC1', 'VATE1']}, 'list_name': 'upload_1', 'plus_minus': '+'}, 'number_in_reference': 32, 'term': {'level': 0, 'id': 'R-HSA-1222556', 'label': 'ROS, RNS production in phagocytes'}}\n",
      "\n",
      "{'input_list': {'number_in_list': 54, 'fold_enrichment': 7.2453669384729436, 'expected': 7.453038674033149, 'pValue': 2.5593280683428766e-28, 'mapped_id_list': {'mapped_id': ['ITAX', 'NCF2', 'HEXB', 'NCF4', 'VATE1', 'MA2B1', 'SAP3', 'TOM1', 'OSTF1', 'CAN1', 'VATB2', 'CYFP1', 'RHOG', 'G6PI', 'CKAP4', 'LKHA4', 'BGAL', 'DUS3', 'ILEU', 'RAP2B', 'VPP3', 'NPC2', 'PKHO2', 'RAB7A', 'CATS', 'PDXK', 'ASAH1', 'SAP', 'IQGA1', 'MVP', 'VATG1', 'FRIH', 'GNS', 'VATC1', 'PLD3', 'FRIL', 'LYAG', 'CATD', 'CY24B', 'CATB', 'B2MG', 'LYN', 'VATA', 'RAB10', 'PSA2', 'IDHC', 'VATH', 'SPB6', 'CATZ', 'CYTB', 'CALM1', 'PPGB', 'LGMN']}, 'list_name': 'upload_1', 'plus_minus': '+'}, 'number_in_reference': 1102, 'term': {'level': 1, 'id': 'R-HSA-168249', 'label': 'Innate Immune System'}}\n",
      "\n",
      "{'input_list': {'number_in_list': 8, 'fold_enrichment': 45.49512459371614, 'expected': 0.1758430177176605, 'pValue': 1.0513572557900767e-07, 'mapped_id_list': {'mapped_id': ['VATA', 'VATB2', 'VPP3', 'VATH', 'VATG1', 'VATC1', 'VATE1']}, 'list_name': 'upload_1', 'plus_minus': '+'}, 'number_in_reference': 26, 'term': {'level': 0, 'id': 'R-HSA-77387', 'label': 'Insulin receptor recycling'}}\n",
      "\n",
      "{'input_list': {'number_in_list': 8, 'fold_enrichment': 16.898189134808852, 'expected': 0.4734235092398552, 'pValue': 0.00010591144553600586, 'mapped_id_list': {'mapped_id': ['VATA', 'VATB2', 'VPP3', 'VATH', 'VATG1', 'VATC1', 'VATE1']}, 'list_name': 'upload_1', 'plus_minus': '+'}, 'number_in_reference': 70, 'term': {'level': 1, 'id': 'R-HSA-74752', 'label': 'Signaling by Insulin receptor'}}\n",
      "\n",
      "{'input_list': {'number_in_list': 16, 'fold_enrichment': 5.3766965428937255, 'expected': 2.9758049152219472, 'pValue': 0.000150701363338329, 'mapped_id_list': {'mapped_id': ['LYN', 'VATB2', 'NCF2', 'NCF4', 'CYFP1', 'VATG1', 'CLH1', 'VATC1', 'VATE1', 'VATA', 'DUS3', 'CY24B', 'VPP3', 'VATH', 'CALM1']}, 'list_name': 'upload_1', 'plus_minus': '+'}, 'number_in_reference': 440, 'term': {'level': 2, 'id': 'R-HSA-9006934', 'label': 'Signaling by Receptor Tyrosine Kinases'}}\n",
      "\n",
      "{'input_list': {'number_in_list': 4, 'fold_enrichment': 45.49512459371614, 'expected': 0.08792150885883025, 'pValue': 0.00856848761521155, 'mapped_id_list': {'mapped_id': ['HEXB', 'HEXA', 'GNS', 'BGAL']}, 'list_name': 'upload_1', 'plus_minus': '+'}, 'number_in_reference': 13, 'term': {'level': 0, 'id': 'R-HSA-2022857', 'label': 'Keratan sulfate degradation'}}\n",
      "\n",
      "{'input_list': {'number_in_list': 11, 'fold_enrichment': 6.114476331674256, 'expected': 1.7990093351114498, 'pValue': 0.005542325782139477, 'mapped_id_list': {'mapped_id': ['LYAG', 'AK1A1', 'HXK1', 'HEXB', 'MA2B1', 'HEXA', 'G6PI', 'CALM1', 'GNPI1', 'GNS', 'BGAL']}, 'list_name': 'upload_1', 'plus_minus': '+'}, 'number_in_reference': 266, 'term': {'level': 3, 'id': 'R-HSA-71387', 'label': 'Metabolism of carbohydrates'}}\n",
      "\n",
      "{'input_list': {'number_in_list': 8, 'fold_enrichment': 38.157201272149024, 'expected': 0.20965898266336444, 'pValue': 3.4634012380101104e-07, 'mapped_id_list': {'mapped_id': ['VATA', 'VATB2', 'VPP3', 'VATH', 'VATG1', 'VATC1', 'VATE1']}, 'list_name': 'upload_1', 'plus_minus': '+'}, 'number_in_reference': 31, 'term': {'level': 0, 'id': 'R-HSA-917977', 'label': 'Transferrin endocytosis and recycling'}}\n",
      "\n",
      "{'input_list': {'number_in_list': 10, 'fold_enrichment': 25.492957746478872, 'expected': 0.39226519337016574, 'pValue': 5.59477658706847e-08, 'mapped_id_list': {'mapped_id': ['VATA', 'VATB2', 'VPP3', 'VATH', 'VATG1', 'FRIH', 'VATC1', 'FRIL', 'VATE1']}, 'list_name': 'upload_1', 'plus_minus': '+'}, 'number_in_reference': 58, 'term': {'level': 1, 'id': 'R-HSA-917937', 'label': 'Iron uptake and transport'}}\n",
      "\n",
      "input_list\n",
      "\n",
      "number_in_reference\n",
      "\n",
      "term\n",
      "\n",
      "{'input_list': {'number_in_list': 7, 'fold_enrichment': 23.00031298904538, 'expected': 0.30434368451133553, 'pValue': 0.0001091661866226457, 'mapped_id_list': {'mapped_id': ['ASAH1', 'SAP', 'HEXB', 'HEXA', 'SAP3', 'PPGB', 'BGAL']}, 'list_name': 'upload_1', 'plus_minus': '+'}, 'number_in_reference': 45, 'term': {'level': 0, 'id': 'R-HSA-1660662', 'label': 'Glycosphingolipid metabolism'}}\n",
      "\n",
      "{'input_list': {'number_in_list': 7, 'fold_enrichment': 11.896713615023474, 'expected': 0.5883977900552486, 'pValue': 0.006605343505977544, 'mapped_id_list': {'mapped_id': ['ASAH1', 'SAP', 'HEXB', 'HEXA', 'SAP3', 'PPGB', 'BGAL']}, 'list_name': 'upload_1', 'plus_minus': '+'}, 'number_in_reference': 87, 'term': {'level': 1, 'id': 'R-HSA-428157', 'label': 'Sphingolipid metabolism'}}\n",
      "\n",
      "input_list\n",
      "\n",
      "number_in_reference\n",
      "\n",
      "term\n",
      "\n",
      "{'input_list': {'number_in_list': 7, 'fold_enrichment': 14.375195618153366, 'expected': 0.48694989521813675, 'pValue': 0.002034005423371933, 'mapped_id_list': {'mapped_id': ['FRIH', 'CATZ', 'CLH1', 'SNAA', 'GNS', 'SNX5', 'FRIL']}, 'list_name': 'upload_1', 'plus_minus': '+'}, 'number_in_reference': 72, 'term': {'level': 0, 'id': 'R-HSA-421837', 'label': 'Clathrin derived vesicle budding'}}\n",
      "\n",
      "{'input_list': {'number_in_list': 7, 'fold_enrichment': 14.375195618153366, 'expected': 0.48694989521813675, 'pValue': 0.002034005423371933, 'mapped_id_list': {'mapped_id': ['FRIH', 'CATZ', 'CLH1', 'SNAA', 'GNS', 'SNX5', 'FRIL']}, 'list_name': 'upload_1', 'plus_minus': '+'}, 'number_in_reference': 72, 'term': {'level': 1, 'id': 'R-HSA-199992', 'label': 'trans-Golgi Network Vesicle Budding'}}\n",
      "\n",
      "{'input_list': {'number_in_list': 20, 'fold_enrichment': 4.761969562949354, 'expected': 4.19994284625643, 'pValue': 2.2520039779850144e-05, 'mapped_id_list': {'mapped_id': ['SC22B', 'DCTN2', 'NECP2', 'RAB1B', 'FRIH', 'CLH1', 'GNS', 'FRIL', 'RB11B', 'RAB10', 'RAB32', 'GDIA', 'ACTZ', 'CATZ', 'CALM1', 'SNAA', 'SNX5', 'RAB7A', 'RAB8B', 'VAMP3']}, 'list_name': 'upload_1', 'plus_minus': '+'}, 'number_in_reference': 621, 'term': {'level': 2, 'id': 'R-HSA-199991', 'label': 'Membrane Trafficking'}}\n",
      "\n",
      "input_list\n",
      "\n",
      "number_in_reference\n",
      "\n",
      "term\n",
      "\n",
      "input_list\n",
      "\n",
      "number_in_reference\n",
      "\n",
      "term\n",
      "\n",
      "{'input_list': {'number_in_list': 10, 'fold_enrichment': 11.828732394366197, 'expected': 0.8453991236425986, 'pValue': 5.174999109880939e-05, 'mapped_id_list': {'mapped_id': ['CATD', 'CATS', 'CATB', 'DCTN2', 'ACTZ', 'GILT', 'CLH1', 'PPGB', 'LGMN', 'RAB7A']}, 'list_name': 'upload_1', 'plus_minus': '+'}, 'number_in_reference': 125, 'term': {'level': 0, 'id': 'R-HSA-2132295', 'label': 'MHC class II antigen presentation'}}\n",
      "\n",
      "{'input_list': {'number_in_list': 21, 'fold_enrichment': 3.7958951754537003, 'expected': 5.532291865117165, 'pValue': 0.00040039783756545827, 'mapped_id_list': {'mapped_id': ['LYN', 'SC22B', 'CATS', 'SAP', 'DCTN2', 'NCF2', 'NCF4', 'GILT', 'CLH1', 'BAP31', 'CATD', 'PSA2', 'CY24B', 'CATB', 'B2MG', 'ACTZ', 'CALM1', 'PPGB', 'LGMN', 'RAB7A', 'VAMP3']}, 'list_name': 'upload_1', 'plus_minus': '+'}, 'number_in_reference': 818, 'term': {'level': 1, 'id': 'R-HSA-1280218', 'label': 'Adaptive Immune System'}}\n",
      "\n",
      "input_list\n",
      "\n",
      "number_in_reference\n",
      "\n",
      "term\n",
      "\n",
      "input_list\n",
      "\n",
      "number_in_reference\n",
      "\n",
      "term\n",
      "\n",
      "input_list\n",
      "\n",
      "number_in_reference\n",
      "\n",
      "term\n"
     ]
    }
   ],
   "source": [
    "with open(amigo_file,'r') as f:\n",
    "    data = json.load(f)\n",
    "    for group in data['overrepresentation']['group']:\n",
    "        for element in group['result']:\n",
    "            print()\n",
    "\n",
    "            if element != 0:\n",
    "                print(element)\n",
    "            #geneIDs=element['input_list']\n",
    "            #reference_rank=element['number_in_reference']\n",
    "            #term=element['term']\n",
    "            #print(term)\n",
    "            \n",
    "        "
   ]
  },
  {
   "cell_type": "code",
   "execution_count": null,
   "metadata": {},
   "outputs": [],
   "source": []
  },
  {
   "cell_type": "code",
   "execution_count": null,
   "metadata": {},
   "outputs": [],
   "source": []
  }
 ],
 "metadata": {
  "kernelspec": {
   "display_name": "Python 3",
   "language": "python",
   "name": "python3"
  },
  "language_info": {
   "codemirror_mode": {
    "name": "ipython",
    "version": 3
   },
   "file_extension": ".py",
   "mimetype": "text/x-python",
   "name": "python",
   "nbconvert_exporter": "python",
   "pygments_lexer": "ipython3",
   "version": "3.7.3"
  }
 },
 "nbformat": 4,
 "nbformat_minor": 2
}
